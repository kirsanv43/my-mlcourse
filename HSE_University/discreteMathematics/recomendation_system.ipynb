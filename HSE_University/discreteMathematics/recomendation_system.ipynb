{
 "cells": [
  {
   "cell_type": "markdown",
   "metadata": {
    "deletable": false,
    "editable": false,
    "nbgrader": {
     "cell_type": "markdown",
     "checksum": "afb390046f525ffebfba8edcb646e712",
     "grade": false,
     "grade_id": "cell-3ca52623de90cf0d",
     "locked": true,
     "schema_version": 3,
     "solution": false,
     "task": false
    }
   },
   "source": [
    "........................................................................................................................................................................................................................................................................................................................................................................................................................................................................................................................................................................................................................................................................................................................................................................# Построение рекомендательной системы\n",
    "\n",
    "В этом нотбуке мы выполним наш финальный проект — построим рекомендательную систему, основанную на методах, которые мы обсудили.\n",
    "\n",
    "Для этого мы будем использовать данные от Амазон. Граф размещен в отдельном файле, он загружается в первом блоке.\n",
    "\n",
    "Нам нужно будет реализовать три метода, обсуждавшиеся на этой неделе, и протестировать их. Но общий подход во всех трех методах один и тот же: \n",
    "1. мы фиксируем вершину (в коде ниже это переменная `query`); \n",
    "2. удаляем некоторые смежные с ней ребра (в коде ниже это список `samp`); \n",
    "3. вычисляем специально определенное расстояние между нашей вершиной и всеми остальными (методы различаются как раз выбором расстояния);\n",
    "4. выбираем вершины с наименьшим расстоянием до выбранной, это те вершины, в которые метод предлагает провести ребра;\n",
    "5. сравниваем предложенные методом ребра с удаленными, чем больше совпадений, тем лучше сработал метод.\n",
    "\n",
    "Вспомогательные шаги уже реализованы ниже. Шаг 2 реализован в функции `generate_graph`. Шаги 4-5 реализованы в функции `check_answer`. Вам нужно реализовать только шаги 3 для всех методов.\n",
    "\n",
    "В первом методе, который нужно реализовать, расстоянием является просто число общих соседей. Во втором методе нужно будет посчитать усеченные моменты достижения из выбранной вершины. Их мы подсчитываем приближенно, запуская случайное блуждание несколько раз. Сначала нужно реализовать функцию для одного случайного блуждания, затем функцию для приближенного вычисления усеченных моментов достижения. Длину блуждания мы фиксируем равной 10. В третьем методе нужно посчитать усеченные моменты достижения в вершину. Для них у нас есть рекуррентная формула.\n",
    "\n",
    "Мы подробно обсуждали все три метода на этой неделе. Ниже вы также можете найти поясняющие комментарии.\n",
    "\n",
    "Внимание: в функциях пользуйтесь только теми графами (`graph` или `adjlist`), которые переданы в аргументах. Все остальные вхождения могут измениться во время тестирования."
   ]
  },
  {
   "cell_type": "code",
   "execution_count": 1,
   "metadata": {
    "deletable": false,
    "editable": false,
    "nbgrader": {
     "cell_type": "code",
     "checksum": "fa15e441e8b38bb95d1e46abb9d708d7",
     "grade": false,
     "grade_id": "cell-f3d34abd29a6eb84",
     "locked": true,
     "schema_version": 3,
     "solution": false,
     "task": false
    }
   },
   "outputs": [],
   "source": [
    "# В этом блоке мы загружаем граф из файла и приводим его в вид, удобный для работы\n",
    "\n",
    "import networkx as nx\n",
    "\n",
    "amazon = nx.read_edgelist(\"Amazon0302.txt\", create_using=nx.Graph(), nodetype=int, data=False)\n",
    "amazon = nx.convert_node_labels_to_integers(amazon, ordering='decreasing degree')\n",
    "nodes = amazon.number_of_nodes()"
   ]
  },
  {
   "cell_type": "code",
   "execution_count": 2,
   "metadata": {
    "deletable": false,
    "editable": false,
    "nbgrader": {
     "cell_type": "code",
     "checksum": "d33e488be56a16a7f9c9328f71bcc8e4",
     "grade": false,
     "grade_id": "cell-9f0ea5788c427888",
     "locked": true,
     "schema_version": 3,
     "solution": false,
     "task": false
    }
   },
   "outputs": [],
   "source": [
    "# В этом блоке собраны вспомогательные функции, которые потребуются вам для выполнения задания\n",
    "\n",
    "# Эта функция получив на вход словарь упорядочивает его по значению меток\n",
    "def index_sorted(a, reverse=False):\n",
    "    return sorted(range(len(a)), key=lambda k: a[k], reverse=reverse)\n",
    "\n",
    "# Эта функция позволяет выбрать ответ из посчитанных расстояний и сравнить его с целевым значением. \n",
    "# Она выбирает нужное количество вершин с минимальным расстоянием и находит число совпадений с удаленными ребрами.\n",
    "def check_answer(stat, samp, reverse=False): \n",
    "    index_dist = index_sorted(stat, reverse)\n",
    "    guess = index_dist[:len(samp)]\n",
    "    print(list(set(samp) & set(guess)))\n",
    "    return len(set(samp) & set(guess))\n",
    "\n",
    "# Эта функция генерирует тестовый пример, удаляя данные ей ребра из графа.\n",
    "def generate_graph(query, samp):\n",
    "    graph = amazon.copy()\n",
    "    for i in samp:\n",
    "        graph.remove_edge(query, i)\n",
    "    return graph"
   ]
  },
  {
   "cell_type": "code",
   "execution_count": 3,
   "metadata": {
    "deletable": false,
    "nbgrader": {
     "cell_type": "code",
     "checksum": "da419a7ad8e88dce27b59c35106f757d",
     "grade": false,
     "grade_id": "cell-0f6fc08ec9cfd596",
     "locked": false,
     "schema_version": 3,
     "solution": true,
     "task": false
    }
   },
   "outputs": [],
   "source": [
    "# В этом блоке требуется реализовать метод числа общих соседей. \n",
    "# Функция в ячейке массива i должна сохранить число общих соседей query и i. \n",
    "# Но есть одна тонкость: ячейку с номером query и ее соседей правильно обнулить, \n",
    "# а то нам будут рекомендовать соединить query с query или ее соседями\n",
    "\n",
    "def common_neighbours(graph, query):\n",
    "    common_neigh = [0] * nodes\n",
    "    queryNeighbors = set(graph[query])\n",
    "   \n",
    "    for neighbour in list(graph.nodes):\n",
    "        if(neighbour in queryNeighbors or query == neighbour):\n",
    "            common_neigh[neighbour] = 0\n",
    "        else:\n",
    "            common_neigh[neighbour] = len(list(queryNeighbors&set(graph[neighbour])))\n",
    "    return common_neigh"
   ]
  },
  {
   "cell_type": "code",
   "execution_count": 4,
   "metadata": {
    "deletable": false,
    "editable": false,
    "nbgrader": {
     "cell_type": "code",
     "checksum": "aa6ff32ddba5a62d2687c4bb4a6db75f",
     "grade": true,
     "grade_id": "cell-ae27a95f13fd800b",
     "locked": true,
     "points": 1,
     "schema_version": 3,
     "solution": false,
     "task": false
    }
   },
   "outputs": [
    {
     "name": "stdout",
     "output_type": "stream",
     "text": [
      "[20673, 35561, 104718, 3060, 28054, 110999, 20342, 829]\n"
     ]
    }
   ],
   "source": [
    "# На примерах в этом блоке вы можете протестировать Ваше решение. Важно: прохождение этих тестов необходимо \n",
    "# для получения хорошей оценки, но недостаточно: Ваше решение будет проверено на дополнительном наборе тестов\n",
    "\n",
    "query = 422\n",
    "samp = [35561, 98891, 157171, 3060, 198304, 28054, 226896, 20673, 110999, 125875, 125877, 20342, 208996, 205186, 829, 189415, 212872, 164896, 104718, 78418]\n",
    "graph = generate_graph(query, samp)\n",
    "\n",
    "ans = common_neighbours(graph, query)\n",
    "assert index_sorted(ans, reverse=True)[:len(samp)] == [829, 3060, 20673, 13141, 21150, 35561, 36377, 103988, 110999, 172699, 4863, 8961, 10572, 16003, 20342, 28054, 53201, 70084, 70323, 104718]\n",
    "assert check_answer(ans, samp, reverse=True) == 8"
   ]
  },
  {
   "cell_type": "code",
   "execution_count": 5,
   "metadata": {
    "deletable": false,
    "editable": false,
    "nbgrader": {
     "cell_type": "code",
     "checksum": "1886a79b00aba977104a8fcb47cc7a94",
     "grade": true,
     "grade_id": "cell-8b1e4d311e1bb244",
     "locked": true,
     "points": 1,
     "schema_version": 3,
     "solution": false,
     "task": false
    }
   },
   "outputs": [],
   "source": [
    "# здесь находится скрытый тест"
   ]
  },
  {
   "cell_type": "code",
   "execution_count": 37,
   "metadata": {
    "deletable": false,
    "nbgrader": {
     "cell_type": "code",
     "checksum": "f0e95cef3706208273998fcd007f7e88",
     "grade": false,
     "grade_id": "cell-ca0306565176b0bf",
     "locked": false,
     "schema_version": 3,
     "solution": true,
     "task": false
    }
   },
   "outputs": [],
   "source": [
    "# В этом блоке требуется реализовать метод случайных блужданий.\n",
    "# Допишите обработку новой вершины в блуждании и учет непосещенных вершин.\n",
    "# Обратите внимание на массив used: вместо того, чтобы перед каждым блужданием его очищать,\n",
    "# мы поддерживаем номер последней посещенной итерации и сравниваем его с текущим.\n",
    "\n",
    "import random\n",
    "\n",
    "\n",
    "def hit_time(adjlist, hit_dist, hit_times, used, source, time_bound, it):\n",
    "    current_node = source\n",
    "    for step in range(time_bound):\n",
    "        current_node = random.choice(adjlist[current_node])\n",
    "        if used[current_node] != it:\n",
    "            hit_times[current_node] += 1\n",
    "            used[current_node] = it\n",
    "            hit_dist[current_node] += step\n",
    "    \n",
    "    for node in adjlist[source]:\n",
    "        hit_times[node] = -1\n",
    "        hit_dist[current_node] = -1\n",
    "        \n",
    "\n",
    "def hit_distance(adjlist, query, time=10):\n",
    "    # инициализация статистик\n",
    "    hit_dist = [0] * nodes  # искомые расстояния\n",
    "    hit_times = [0] * nodes  # кол-во раз, когда вершина была достигнута в блуждании\n",
    "    used = [0] * nodes  # последняя итерация, на которой вершина была достигнута в блуждании\n",
    "    samples = nodes // time  # кол-во блужданий\n",
    "    \n",
    "    # запуск блужданий\n",
    "    for i in range(1, samples + 1):\n",
    "        hit_time(adjlist, hit_dist, hit_times, used, query, time, i)\n",
    "    for node in adjlist:\n",
    "        hit_dist[node] += (time * (samples - hit_times[node]))\n",
    "        hit_dist[node] = (hit_dist[node] / samples) \n",
    "        # hit_times[hit_time_index] = samples\n",
    "    hit_dist[query] = 99999\n",
    "    return hit_dist"
   ]
  },
  {
   "cell_type": "code",
   "execution_count": 38,
   "metadata": {
    "deletable": false,
    "editable": false,
    "nbgrader": {
     "cell_type": "code",
     "checksum": "d5c0d9f27143e807643a8a43669f6ea7",
     "grade": true,
     "grade_id": "cell-178a9470c876f360",
     "locked": true,
     "points": 4,
     "schema_version": 3,
     "solution": false,
     "task": false
    }
   },
   "outputs": [
    {
     "name": "stdout",
     "output_type": "stream",
     "text": [
      "[164896, 20673, 35561, 104718, 3060, 28054, 110999, 20342, 829]\n"
     ]
    }
   ],
   "source": [
    "# Проверьте Ваше решение\n",
    "\n",
    "adjlist = nx.convert.to_dict_of_lists(graph)\n",
    "hd = hit_distance(adjlist, query)\n",
    "assert check_answer(hd, samp) >= 8"
   ]
  },
  {
   "cell_type": "code",
   "execution_count": 35,
   "metadata": {
    "deletable": false,
    "nbgrader": {
     "cell_type": "code",
     "checksum": "36ea9af693557fbad002e5fbfdfe2c90",
     "grade": false,
     "grade_id": "cell-259a2f6553144201",
     "locked": false,
     "schema_version": 3,
     "solution": true,
     "task": false
    }
   },
   "outputs": [],
   "source": [
    "# В этом блоке необходимо реализовать подсчет усеченных моментов достижения в вершину.\n",
    "# Допишите рекуррентную функцию и постобработку (какие вершины точно не должны попасть в ответ?)\n",
    "# В нашем тестовом графе нет петель, но если вы захотите потестировать свое решение на других графах,\n",
    "# обратите внимание, что петля (ребро, идущее из вершины в саму себя) повышает степень вершины на 2\n",
    "\n",
    "def truncated_hitting_time(graph, query, time=10):\n",
    "    tht = [[0 for _ in range(nodes)] for _ in range(time + 1)]\n",
    "    for t in range(1, time + 1):\n",
    "        for vert in range(nodes):\n",
    "            if vert == query:\n",
    "                continue\n",
    "\n",
    "            if graph.degree[vert] != 0:\n",
    "                for neighbour in graph[vert]:\n",
    "                    tht[t][vert] += (1/graph.degree[vert]) * tht[t - 1][neighbour]\n",
    "                \n",
    "            tht[t][vert] += 1\n",
    "    # your code here\n",
    "    tht[time][query] = 9999999\n",
    "    for node in graph[query]:\n",
    "            tht[time][node] = 9999999\n",
    "    return tht[time]"
   ]
  },
  {
   "cell_type": "code",
   "execution_count": 36,
   "metadata": {
    "deletable": false,
    "editable": false,
    "nbgrader": {
     "cell_type": "code",
     "checksum": "4fed349b512b6b6ea460911d7f239acc",
     "grade": true,
     "grade_id": "cell-470da6efb0732169",
     "locked": true,
     "points": 3,
     "schema_version": 3,
     "solution": false,
     "task": false
    }
   },
   "outputs": [
    {
     "name": "stdout",
     "output_type": "stream",
     "text": [
      "[164896, 198304, 205186, 20673, 212872, 35561, 104718, 157171, 3060, 110999, 829]\n"
     ]
    }
   ],
   "source": [
    "# Проверьте Ваше решение\n",
    "\n",
    "tht = truncated_hitting_time(graph, query)\n",
    "assert index_sorted(tht)[:len(samp)] == [164896, 254021, 110999, 212872, 20673, 172699, 3060, 104718, 205186, 194186, 35561, 36377, 829, 103988, 157171, 198304, 113283, 21150, 244935, 186662]\n",
    "assert check_answer(tht, samp) == 11"
   ]
  },
  {
   "cell_type": "code",
   "execution_count": 47,
   "metadata": {
    "deletable": false,
    "nbgrader": {
     "cell_type": "code",
     "checksum": "0b4bfc0ff7b2a8aa6e4456caa94927a7",
     "grade": false,
     "grade_id": "cell-02d17223704bcedd",
     "locked": false,
     "schema_version": 3,
     "solution": true,
     "task": false
    }
   },
   "outputs": [],
   "source": [
    "# В этом блоке требуется реализовать функцию, которая принимает две разные статистики и выдает новую,\n",
    "# являющуюся суммой переданных\n",
    "\n",
    "def sum_of_stats(first, second):\n",
    "    answer = [0] * nodes\n",
    "    for node in range(nodes):\n",
    "        if first[node] < second[node]:\n",
    "            answer[node] = first[node]\n",
    "        else:\n",
    "            answer[node] = second[node]\n",
    "\n",
    "    return answer\n",
    "        \n",
    "    "
   ]
  },
  {
   "cell_type": "code",
   "execution_count": 49,
   "metadata": {
    "deletable": false,
    "editable": false,
    "nbgrader": {
     "cell_type": "code",
     "checksum": "224cfec542e2f11f371d861ae51899b6",
     "grade": true,
     "grade_id": "cell-cdaaccea6ce384d3",
     "locked": true,
     "points": 1,
     "schema_version": 3,
     "solution": false,
     "task": false
    }
   },
   "outputs": [
    {
     "name": "stdout",
     "output_type": "stream",
     "text": [
      "[164896, 198304, 205186, 20673, 212872, 35561, 104718, 157171, 3060, 110999, 829]\n"
     ]
    }
   ],
   "source": [
    "# Проверьте Ваше решение\n",
    "assert check_answer(sum_of_stats(hd, tht), samp) >= 9"
   ]
  }
 ],
 "metadata": {
  "interpreter": {
   "hash": "b843024859bfddeb83891f3cca30f927f6433f4ef083cab61df34efd75c5119a"
  },
  "kernelspec": {
   "display_name": "Python 3.8.8 64-bit ('base': conda)",
   "name": "python3"
  },
  "language_info": {
   "codemirror_mode": {
    "name": "ipython",
    "version": 3
   },
   "file_extension": ".py",
   "mimetype": "text/x-python",
   "name": "python",
   "nbconvert_exporter": "python",
   "pygments_lexer": "ipython3",
   "version": "3.8.8"
  },
  "orig_nbformat": 3
 },
 "nbformat": 4,
 "nbformat_minor": 4
}