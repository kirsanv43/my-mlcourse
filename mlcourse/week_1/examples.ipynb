{
 "cells": [
  {
   "cell_type": "markdown",
   "id": "stretch-davis",
   "metadata": {
    "_uuid": "1752ce061957fd1ce93d2e4db9494b7b29da7935",
    "papermill": {
     "duration": 0.04692,
     "end_time": "2021-05-07T08:35:59.190175",
     "exception": false,
     "start_time": "2021-05-07T08:35:59.143255",
     "status": "completed"
    },
    "tags": []
   },
   "source": [
    "<center>\n",
    "<img src=\"https://habrastorage.org/webt/ia/m9/zk/iam9zkyzqebnf_okxipihkgjwnw.jpeg\">\n",
    "    \n",
    "## [mlcourse.ai](https://mlcourse.ai) – Open Machine Learning Course \n",
    "\n",
    "Author: [Yury Kashnitsky](https://yorko.github.io). Translated and edited by [Christina Butsko](https://www.linkedin.com/in/christinabutsko/), [Yuanyuan Pao](https://www.linkedin.com/in/yuanyuanpao/), [Anastasia Manokhina](https://www.linkedin.com/in/anastasiamanokhina), Sergey Isaev, and [Artem Trunov](https://www.linkedin.com/in/datamove/). This material is subject to the terms and conditions of the [Creative Commons CC BY-NC-SA 4.0](https://creativecommons.org/licenses/by-nc-sa/4.0/) license. Free use is permitted for any non-commercial purpose."
   ]
  },
  {
   "cell_type": "markdown",
   "id": "afraid-serum",
   "metadata": {
    "_uuid": "9b690f2c8129ad9445c544337375b93246c26668",
    "papermill": {
     "duration": 0.04455,
     "end_time": "2021-05-07T08:35:59.279099",
     "exception": false,
     "start_time": "2021-05-07T08:35:59.234549",
     "status": "completed"
    },
    "tags": []
   },
   "source": [
    "# <center> Topic 1. Exploratory data analysis with Pandas\n",
    "\n",
    "<img align=\"center\" src=\"https://habrastorage.org/files/10c/15f/f3d/10c15ff3dcb14abdbabdac53fed6d825.jpg\"  width=50% />\n",
    "\n",
    "## Article outline\n",
    "1. [Demonstration of main Pandas methods](#1.-Demonstration-of-main-Pandas-methods)\n",
    "2. [First attempt at predicting telecom churn](#2.-First-attempt-at-predicting-telecom-churn)\n",
    "3. [Assignments](#3.-Assignments)\n",
    "4. [Useful resources](#4.-Useful-resources)"
   ]
  },
  {
   "cell_type": "markdown",
   "id": "optional-comparative",
   "metadata": {
    "_uuid": "8000f32601aff93ebda3e8ca0baea376988a5649",
    "papermill": {
     "duration": 0.043036,
     "end_time": "2021-05-07T08:35:59.367136",
     "exception": false,
     "start_time": "2021-05-07T08:35:59.324100",
     "status": "completed"
    },
    "tags": []
   },
   "source": [
    "## 1. Demonstration of main Pandas methods\n",
    "Well... There are dozens of cool tutorials on Pandas and visual data analysis. If you are already familiar with these topics, you can wait for the 3rd article in the series, where we get into machine learning.  \n",
    "\n",
    "**[Pandas](http://pandas.pydata.org)** is a Python library that provides extensive means for data analysis. Data scientists often work with data stored in table formats like `.csv`, `.tsv`, or `.xlsx`. Pandas makes it very convenient to load, process, and analyze such tabular data using SQL-like queries. In conjunction with `Matplotlib` and `Seaborn`, `Pandas` provides a wide range of opportunities for visual analysis of tabular data.\n",
    "\n",
    "The main data structures in `Pandas` are implemented with **Series** and **DataFrame** classes. The former is a one-dimensional indexed array of some fixed data type. The latter is a two-dimensional data structure - a table - where each column contains data of the same type. You can see it as a dictionary of `Series` instances. `DataFrames` are great for representing real data: rows correspond to instances (examples, observations, etc.), and columns correspond to features of these instances."
   ]
  },
  {
   "cell_type": "code",
   "execution_count": 36,
   "id": "supreme-beatles",
   "metadata": {
    "_uuid": "e855067a1d281ca6634772513ef918aa1c9224f4",
    "execution": {
     "iopub.execute_input": "2021-05-07T08:35:59.459472Z",
     "iopub.status.busy": "2021-05-07T08:35:59.458289Z",
     "iopub.status.idle": "2021-05-07T08:35:59.462927Z",
     "shell.execute_reply": "2021-05-07T08:35:59.463560Z"
    },
    "papermill": {
     "duration": 0.052221,
     "end_time": "2021-05-07T08:35:59.463863",
     "exception": false,
     "start_time": "2021-05-07T08:35:59.411642",
     "status": "completed"
    },
    "tags": []
   },
   "outputs": [],
   "source": [
    "import numpy as np\n",
    "import pandas as pd\n",
    "\n",
    "pd.set_option(\"display.precision\", 2)"
   ]
  },
  {
   "cell_type": "markdown",
   "id": "catholic-remainder",
   "metadata": {
    "_uuid": "e3ae8b8d09f0dd881831253957ca96d086038f7b",
    "papermill": {
     "duration": 0.045851,
     "end_time": "2021-05-07T08:35:59.553832",
     "exception": false,
     "start_time": "2021-05-07T08:35:59.507981",
     "status": "completed"
    },
    "tags": []
   },
   "source": [
    "We'll demonstrate the main methods in action by analyzing a [dataset](https://bigml.com/user/francisco/gallery/dataset/5163ad540c0b5e5b22000383) on the churn rate of telecom operator clients. Let's read the data (using `read_csv`), and take a look at the first 5 lines using the `head` method:"
   ]
  },
  {
   "cell_type": "code",
   "execution_count": 37,
   "id": "interesting-dodge",
   "metadata": {
    "_uuid": "f274f88e14b4df01f8f60bd8be5e0cea903a7dd7",
    "execution": {
     "iopub.execute_input": "2021-05-07T08:35:59.646729Z",
     "iopub.status.busy": "2021-05-07T08:35:59.645658Z",
     "iopub.status.idle": "2021-05-07T08:35:59.731091Z",
     "shell.execute_reply": "2021-05-07T08:35:59.731563Z"
    },
    "papermill": {
     "duration": 0.13323,
     "end_time": "2021-05-07T08:35:59.731738",
     "exception": false,
     "start_time": "2021-05-07T08:35:59.598508",
     "status": "completed"
    },
    "tags": []
   },
   "outputs": [
    {
     "output_type": "execute_result",
     "data": {
      "text/plain": [
       "  State  Account length  Area code Phone number International plan  \\\n",
       "0    KS             128        415     382-4657                 no   \n",
       "1    OH             107        415     371-7191                 no   \n",
       "2    NJ             137        415     358-1921                 no   \n",
       "3    OH              84        408     375-9999                yes   \n",
       "4    OK              75        415     330-6626                yes   \n",
       "\n",
       "  Voice mail plan  Number vmail messages  Total day minutes  Total day calls  \\\n",
       "0             yes                     25              265.1              110   \n",
       "1             yes                     26              161.6              123   \n",
       "2              no                      0              243.4              114   \n",
       "3              no                      0              299.4               71   \n",
       "4              no                      0              166.7              113   \n",
       "\n",
       "   Total day charge  ...  Total eve calls  Total eve charge  \\\n",
       "0             45.07  ...               99             16.78   \n",
       "1             27.47  ...              103             16.62   \n",
       "2             41.38  ...              110             10.30   \n",
       "3             50.90  ...               88              5.26   \n",
       "4             28.34  ...              122             12.61   \n",
       "\n",
       "   Total night minutes  Total night calls  Total night charge  \\\n",
       "0                244.7                 91               11.01   \n",
       "1                254.4                103               11.45   \n",
       "2                162.6                104                7.32   \n",
       "3                196.9                 89                8.86   \n",
       "4                186.9                121                8.41   \n",
       "\n",
       "   Total intl minutes  Total intl calls  Total intl charge  \\\n",
       "0                10.0                 3               2.70   \n",
       "1                13.7                 3               3.70   \n",
       "2                12.2                 5               3.29   \n",
       "3                 6.6                 7               1.78   \n",
       "4                10.1                 3               2.73   \n",
       "\n",
       "   Customer service calls  Churn  \n",
       "0                       1  False  \n",
       "1                       1  False  \n",
       "2                       0  False  \n",
       "3                       2  False  \n",
       "4                       3  False  \n",
       "\n",
       "[5 rows x 21 columns]"
      ],
      "text/html": "<div>\n<style scoped>\n    .dataframe tbody tr th:only-of-type {\n        vertical-align: middle;\n    }\n\n    .dataframe tbody tr th {\n        vertical-align: top;\n    }\n\n    .dataframe thead th {\n        text-align: right;\n    }\n</style>\n<table border=\"1\" class=\"dataframe\">\n  <thead>\n    <tr style=\"text-align: right;\">\n      <th></th>\n      <th>State</th>\n      <th>Account length</th>\n      <th>Area code</th>\n      <th>Phone number</th>\n      <th>International plan</th>\n      <th>Voice mail plan</th>\n      <th>Number vmail messages</th>\n      <th>Total day minutes</th>\n      <th>Total day calls</th>\n      <th>Total day charge</th>\n      <th>...</th>\n      <th>Total eve calls</th>\n      <th>Total eve charge</th>\n      <th>Total night minutes</th>\n      <th>Total night calls</th>\n      <th>Total night charge</th>\n      <th>Total intl minutes</th>\n      <th>Total intl calls</th>\n      <th>Total intl charge</th>\n      <th>Customer service calls</th>\n      <th>Churn</th>\n    </tr>\n  </thead>\n  <tbody>\n    <tr>\n      <th>0</th>\n      <td>KS</td>\n      <td>128</td>\n      <td>415</td>\n      <td>382-4657</td>\n      <td>no</td>\n      <td>yes</td>\n      <td>25</td>\n      <td>265.1</td>\n      <td>110</td>\n      <td>45.07</td>\n      <td>...</td>\n      <td>99</td>\n      <td>16.78</td>\n      <td>244.7</td>\n      <td>91</td>\n      <td>11.01</td>\n      <td>10.0</td>\n      <td>3</td>\n      <td>2.70</td>\n      <td>1</td>\n      <td>False</td>\n    </tr>\n    <tr>\n      <th>1</th>\n      <td>OH</td>\n      <td>107</td>\n      <td>415</td>\n      <td>371-7191</td>\n      <td>no</td>\n      <td>yes</td>\n      <td>26</td>\n      <td>161.6</td>\n      <td>123</td>\n      <td>27.47</td>\n      <td>...</td>\n      <td>103</td>\n      <td>16.62</td>\n      <td>254.4</td>\n      <td>103</td>\n      <td>11.45</td>\n      <td>13.7</td>\n      <td>3</td>\n      <td>3.70</td>\n      <td>1</td>\n      <td>False</td>\n    </tr>\n    <tr>\n      <th>2</th>\n      <td>NJ</td>\n      <td>137</td>\n      <td>415</td>\n      <td>358-1921</td>\n      <td>no</td>\n      <td>no</td>\n      <td>0</td>\n      <td>243.4</td>\n      <td>114</td>\n      <td>41.38</td>\n      <td>...</td>\n      <td>110</td>\n      <td>10.30</td>\n      <td>162.6</td>\n      <td>104</td>\n      <td>7.32</td>\n      <td>12.2</td>\n      <td>5</td>\n      <td>3.29</td>\n      <td>0</td>\n      <td>False</td>\n    </tr>\n    <tr>\n      <th>3</th>\n      <td>OH</td>\n      <td>84</td>\n      <td>408</td>\n      <td>375-9999</td>\n      <td>yes</td>\n      <td>no</td>\n      <td>0</td>\n      <td>299.4</td>\n      <td>71</td>\n      <td>50.90</td>\n      <td>...</td>\n      <td>88</td>\n      <td>5.26</td>\n      <td>196.9</td>\n      <td>89</td>\n      <td>8.86</td>\n      <td>6.6</td>\n      <td>7</td>\n      <td>1.78</td>\n      <td>2</td>\n      <td>False</td>\n    </tr>\n    <tr>\n      <th>4</th>\n      <td>OK</td>\n      <td>75</td>\n      <td>415</td>\n      <td>330-6626</td>\n      <td>yes</td>\n      <td>no</td>\n      <td>0</td>\n      <td>166.7</td>\n      <td>113</td>\n      <td>28.34</td>\n      <td>...</td>\n      <td>122</td>\n      <td>12.61</td>\n      <td>186.9</td>\n      <td>121</td>\n      <td>8.41</td>\n      <td>10.1</td>\n      <td>3</td>\n      <td>2.73</td>\n      <td>3</td>\n      <td>False</td>\n    </tr>\n  </tbody>\n</table>\n<p>5 rows × 21 columns</p>\n</div>"
     },
     "metadata": {},
     "execution_count": 37
    }
   ],
   "source": [
    "df = pd.read_csv(\"./telecom_churn.csv\")\n",
    "df.head()"
   ]
  },
  {
   "cell_type": "markdown",
   "id": "opposite-simulation",
   "metadata": {
    "_uuid": "a2f8fc5742d83ec5a110fa56fd967497013bec39",
    "papermill": {
     "duration": 0.045163,
     "end_time": "2021-05-07T08:35:59.823093",
     "exception": false,
     "start_time": "2021-05-07T08:35:59.777930",
     "status": "completed"
    },
    "tags": []
   },
   "source": [
    "<details>\n",
    "<summary>About printing DataFrames in Jupyter notebooks</summary>\n",
    "<p>\n",
    "In Jupyter notebooks, Pandas DataFrames are printed as these pretty tables seen above while `print(df.head())` is less nicely formatted.\n",
    "By default, Pandas displays 20 columns and 60 rows, so, if your DataFrame is bigger, use the `set_option` function as shown in the example below:\n",
    "\n",
    "```python\n",
    "pd.set_option('display.max_columns', 100)\n",
    "pd.set_option('display.max_rows', 100)\n",
    "```\n",
    "</p>\n",
    "</details>\n",
    "\n",
    "Recall that each row corresponds to one client, an **instance**, and columns are **features** of this instance."
   ]
  },
  {
   "cell_type": "markdown",
   "id": "going-wealth",
   "metadata": {
    "_uuid": "d1a98d3e208e59ad0825687ba732f32714fd5e5c",
    "papermill": {
     "duration": 0.045703,
     "end_time": "2021-05-07T08:35:59.914640",
     "exception": false,
     "start_time": "2021-05-07T08:35:59.868937",
     "status": "completed"
    },
    "tags": []
   },
   "source": [
    "Let’s have a look at data dimensionality, feature names, and feature types."
   ]
  },
  {
   "cell_type": "code",
   "execution_count": 38,
   "id": "inside-stephen",
   "metadata": {
    "_uuid": "85347476c8a704b43ddc6b5ec54ac0059b2b740a",
    "execution": {
     "iopub.execute_input": "2021-05-07T08:36:00.008269Z",
     "iopub.status.busy": "2021-05-07T08:36:00.007269Z",
     "iopub.status.idle": "2021-05-07T08:36:00.015284Z",
     "shell.execute_reply": "2021-05-07T08:36:00.014261Z"
    },
    "papermill": {
     "duration": 0.055704,
     "end_time": "2021-05-07T08:36:00.015548",
     "exception": false,
     "start_time": "2021-05-07T08:35:59.959844",
     "status": "completed"
    },
    "tags": []
   },
   "outputs": [
    {
     "output_type": "stream",
     "name": "stdout",
     "text": [
      "(3333, 21)\n"
     ]
    }
   ],
   "source": [
    "print(df.shape)"
   ]
  },
  {
   "cell_type": "markdown",
   "id": "collaborative-memphis",
   "metadata": {
    "_uuid": "26e01159ec9dfc2634bbb3be4ccc3ec82c1b01e4",
    "papermill": {
     "duration": 0.046317,
     "end_time": "2021-05-07T08:36:00.108954",
     "exception": false,
     "start_time": "2021-05-07T08:36:00.062637",
     "status": "completed"
    },
    "tags": []
   },
   "source": [
    "From the output, we can see that the table contains 3333 rows and 20 columns.\n",
    "\n",
    "Now let's try printing out column names using `columns`:"
   ]
  },
  {
   "cell_type": "code",
   "execution_count": 39,
   "id": "third-teach",
   "metadata": {
    "_uuid": "216df4e9a25d0baa8b506e1ec72df488d78367eb",
    "execution": {
     "iopub.execute_input": "2021-05-07T08:36:00.205275Z",
     "iopub.status.busy": "2021-05-07T08:36:00.204509Z",
     "iopub.status.idle": "2021-05-07T08:36:00.208939Z",
     "shell.execute_reply": "2021-05-07T08:36:00.208036Z"
    },
    "papermill": {
     "duration": 0.055147,
     "end_time": "2021-05-07T08:36:00.209149",
     "exception": false,
     "start_time": "2021-05-07T08:36:00.154002",
     "status": "completed"
    },
    "tags": []
   },
   "outputs": [
    {
     "output_type": "stream",
     "name": "stdout",
     "text": [
      "Index(['State', 'Account length', 'Area code', 'Phone number',\n       'International plan', 'Voice mail plan', 'Number vmail messages',\n       'Total day minutes', 'Total day calls', 'Total day charge',\n       'Total eve minutes', 'Total eve calls', 'Total eve charge',\n       'Total night minutes', 'Total night calls', 'Total night charge',\n       'Total intl minutes', 'Total intl calls', 'Total intl charge',\n       'Customer service calls', 'Churn'],\n      dtype='object')\n"
     ]
    }
   ],
   "source": [
    "print(df.columns)"
   ]
  },
  {
   "cell_type": "markdown",
   "id": "interim-indonesian",
   "metadata": {
    "_uuid": "60f8c02d4e9b4ef82f9721fc2fb274ca50e0d6e4",
    "papermill": {
     "duration": 0.047694,
     "end_time": "2021-05-07T08:36:00.305810",
     "exception": false,
     "start_time": "2021-05-07T08:36:00.258116",
     "status": "completed"
    },
    "tags": []
   },
   "source": [
    "We can use the `info()` method to output some general information about the dataframe: "
   ]
  },
  {
   "cell_type": "code",
   "execution_count": 40,
   "id": "bored-moldova",
   "metadata": {
    "_uuid": "2bcfb060dcbda4fe1720eaf3c2e5c003a891dd77",
    "execution": {
     "iopub.execute_input": "2021-05-07T08:36:00.401510Z",
     "iopub.status.busy": "2021-05-07T08:36:00.400861Z",
     "iopub.status.idle": "2021-05-07T08:36:00.422875Z",
     "shell.execute_reply": "2021-05-07T08:36:00.422342Z"
    },
    "papermill": {
     "duration": 0.071027,
     "end_time": "2021-05-07T08:36:00.423026",
     "exception": false,
     "start_time": "2021-05-07T08:36:00.351999",
     "status": "completed"
    },
    "tags": []
   },
   "outputs": [
    {
     "output_type": "stream",
     "name": "stdout",
     "text": [
      "<class 'pandas.core.frame.DataFrame'>\nRangeIndex: 3333 entries, 0 to 3332\nData columns (total 21 columns):\n #   Column                  Non-Null Count  Dtype  \n---  ------                  --------------  -----  \n 0   State                   3333 non-null   object \n 1   Account length          3333 non-null   int64  \n 2   Area code               3333 non-null   int64  \n 3   Phone number            3333 non-null   object \n 4   International plan      3333 non-null   object \n 5   Voice mail plan         3333 non-null   object \n 6   Number vmail messages   3333 non-null   int64  \n 7   Total day minutes       3333 non-null   float64\n 8   Total day calls         3333 non-null   int64  \n 9   Total day charge        3333 non-null   float64\n 10  Total eve minutes       3333 non-null   float64\n 11  Total eve calls         3333 non-null   int64  \n 12  Total eve charge        3333 non-null   float64\n 13  Total night minutes     3333 non-null   float64\n 14  Total night calls       3333 non-null   int64  \n 15  Total night charge      3333 non-null   float64\n 16  Total intl minutes      3333 non-null   float64\n 17  Total intl calls        3333 non-null   int64  \n 18  Total intl charge       3333 non-null   float64\n 19  Customer service calls  3333 non-null   int64  \n 20  Churn                   3333 non-null   bool   \ndtypes: bool(1), float64(8), int64(8), object(4)\nmemory usage: 524.2+ KB\nNone\n"
     ]
    }
   ],
   "source": [
    "print(df.info())"
   ]
  },
  {
   "cell_type": "markdown",
   "id": "desperate-leave",
   "metadata": {
    "_uuid": "6fac47f7e7bcf060164b1881d8e199973834cd38",
    "papermill": {
     "duration": 0.045853,
     "end_time": "2021-05-07T08:36:00.515119",
     "exception": false,
     "start_time": "2021-05-07T08:36:00.469266",
     "status": "completed"
    },
    "tags": []
   },
   "source": [
    "`bool`, `int64`, `float64` and `object` are the data types of our features. We see that one feature is logical (`bool`), 3 features are of type `object`, and 16 features are numeric. With this same method, we can easily see if there are any missing values. Here, there are none because each column contains 3333 observations, the same number of rows we saw before with `shape`.\n",
    "\n",
    "We can **change the column type** with the `astype` method. Let's apply this method to the `Churn` feature to convert it into `int64`:"
   ]
  },
  {
   "cell_type": "code",
   "execution_count": 41,
   "id": "proprietary-novelty",
   "metadata": {
    "_uuid": "16a0073ab34daea8192eb549c4c8a94e33b34a13",
    "execution": {
     "iopub.execute_input": "2021-05-07T08:36:00.620940Z",
     "iopub.status.busy": "2021-05-07T08:36:00.620112Z",
     "iopub.status.idle": "2021-05-07T08:36:00.623233Z",
     "shell.execute_reply": "2021-05-07T08:36:00.622698Z"
    },
    "papermill": {
     "duration": 0.059473,
     "end_time": "2021-05-07T08:36:00.623377",
     "exception": false,
     "start_time": "2021-05-07T08:36:00.563904",
     "status": "completed"
    },
    "tags": []
   },
   "outputs": [],
   "source": [
    "df[\"Churn\"] = df[\"Churn\"].astype(\"int64\")"
   ]
  },
  {
   "cell_type": "markdown",
   "id": "seventh-siemens",
   "metadata": {
    "_uuid": "11030a8bd020c6a3a04beb73531e9676160bcab8",
    "papermill": {
     "duration": 0.045453,
     "end_time": "2021-05-07T08:36:00.714887",
     "exception": false,
     "start_time": "2021-05-07T08:36:00.669434",
     "status": "completed"
    },
    "tags": []
   },
   "source": [
    "The `describe` method shows basic statistical characteristics of each numerical feature (`int64` and `float64` types): number of non-missing values, mean, standard deviation, range, median, 0.25 and 0.75 quartiles."
   ]
  },
  {
   "cell_type": "code",
   "execution_count": 42,
   "id": "improving-spencer",
   "metadata": {
    "_uuid": "24e1d394f938980403a736421b4cf855ddb8ef8c",
    "execution": {
     "iopub.execute_input": "2021-05-07T08:36:00.813975Z",
     "iopub.status.busy": "2021-05-07T08:36:00.813039Z",
     "iopub.status.idle": "2021-05-07T08:36:00.874306Z",
     "shell.execute_reply": "2021-05-07T08:36:00.874785Z"
    },
    "papermill": {
     "duration": 0.113807,
     "end_time": "2021-05-07T08:36:00.874959",
     "exception": false,
     "start_time": "2021-05-07T08:36:00.761152",
     "status": "completed"
    },
    "tags": []
   },
   "outputs": [
    {
     "output_type": "execute_result",
     "data": {
      "text/plain": [
       "       Account length  Area code  Number vmail messages  Total day minutes  \\\n",
       "count         3333.00    3333.00                3333.00            3333.00   \n",
       "mean           101.06     437.18                   8.10             179.78   \n",
       "std             39.82      42.37                  13.69              54.47   \n",
       "min              1.00     408.00                   0.00               0.00   \n",
       "25%             74.00     408.00                   0.00             143.70   \n",
       "50%            101.00     415.00                   0.00             179.40   \n",
       "75%            127.00     510.00                  20.00             216.40   \n",
       "max            243.00     510.00                  51.00             350.80   \n",
       "\n",
       "       Total day calls  Total day charge  Total eve minutes  Total eve calls  \\\n",
       "count          3333.00           3333.00            3333.00          3333.00   \n",
       "mean            100.44             30.56             200.98           100.11   \n",
       "std              20.07              9.26              50.71            19.92   \n",
       "min               0.00              0.00               0.00             0.00   \n",
       "25%              87.00             24.43             166.60            87.00   \n",
       "50%             101.00             30.50             201.40           100.00   \n",
       "75%             114.00             36.79             235.30           114.00   \n",
       "max             165.00             59.64             363.70           170.00   \n",
       "\n",
       "       Total eve charge  Total night minutes  Total night calls  \\\n",
       "count           3333.00              3333.00            3333.00   \n",
       "mean              17.08               200.87             100.11   \n",
       "std                4.31                50.57              19.57   \n",
       "min                0.00                23.20              33.00   \n",
       "25%               14.16               167.00              87.00   \n",
       "50%               17.12               201.20             100.00   \n",
       "75%               20.00               235.30             113.00   \n",
       "max               30.91               395.00             175.00   \n",
       "\n",
       "       Total night charge  Total intl minutes  Total intl calls  \\\n",
       "count             3333.00             3333.00           3333.00   \n",
       "mean                 9.04               10.24              4.48   \n",
       "std                  2.28                2.79              2.46   \n",
       "min                  1.04                0.00              0.00   \n",
       "25%                  7.52                8.50              3.00   \n",
       "50%                  9.05               10.30              4.00   \n",
       "75%                 10.59               12.10              6.00   \n",
       "max                 17.77               20.00             20.00   \n",
       "\n",
       "       Total intl charge  Customer service calls    Churn  \n",
       "count            3333.00                 3333.00  3333.00  \n",
       "mean                2.76                    1.56     0.14  \n",
       "std                 0.75                    1.32     0.35  \n",
       "min                 0.00                    0.00     0.00  \n",
       "25%                 2.30                    1.00     0.00  \n",
       "50%                 2.78                    1.00     0.00  \n",
       "75%                 3.27                    2.00     0.00  \n",
       "max                 5.40                    9.00     1.00  "
      ],
      "text/html": "<div>\n<style scoped>\n    .dataframe tbody tr th:only-of-type {\n        vertical-align: middle;\n    }\n\n    .dataframe tbody tr th {\n        vertical-align: top;\n    }\n\n    .dataframe thead th {\n        text-align: right;\n    }\n</style>\n<table border=\"1\" class=\"dataframe\">\n  <thead>\n    <tr style=\"text-align: right;\">\n      <th></th>\n      <th>Account length</th>\n      <th>Area code</th>\n      <th>Number vmail messages</th>\n      <th>Total day minutes</th>\n      <th>Total day calls</th>\n      <th>Total day charge</th>\n      <th>Total eve minutes</th>\n      <th>Total eve calls</th>\n      <th>Total eve charge</th>\n      <th>Total night minutes</th>\n      <th>Total night calls</th>\n      <th>Total night charge</th>\n      <th>Total intl minutes</th>\n      <th>Total intl calls</th>\n      <th>Total intl charge</th>\n      <th>Customer service calls</th>\n      <th>Churn</th>\n    </tr>\n  </thead>\n  <tbody>\n    <tr>\n      <th>count</th>\n      <td>3333.00</td>\n      <td>3333.00</td>\n      <td>3333.00</td>\n      <td>3333.00</td>\n      <td>3333.00</td>\n      <td>3333.00</td>\n      <td>3333.00</td>\n      <td>3333.00</td>\n      <td>3333.00</td>\n      <td>3333.00</td>\n      <td>3333.00</td>\n      <td>3333.00</td>\n      <td>3333.00</td>\n      <td>3333.00</td>\n      <td>3333.00</td>\n      <td>3333.00</td>\n      <td>3333.00</td>\n    </tr>\n    <tr>\n      <th>mean</th>\n      <td>101.06</td>\n      <td>437.18</td>\n      <td>8.10</td>\n      <td>179.78</td>\n      <td>100.44</td>\n      <td>30.56</td>\n      <td>200.98</td>\n      <td>100.11</td>\n      <td>17.08</td>\n      <td>200.87</td>\n      <td>100.11</td>\n      <td>9.04</td>\n      <td>10.24</td>\n      <td>4.48</td>\n      <td>2.76</td>\n      <td>1.56</td>\n      <td>0.14</td>\n    </tr>\n    <tr>\n      <th>std</th>\n      <td>39.82</td>\n      <td>42.37</td>\n      <td>13.69</td>\n      <td>54.47</td>\n      <td>20.07</td>\n      <td>9.26</td>\n      <td>50.71</td>\n      <td>19.92</td>\n      <td>4.31</td>\n      <td>50.57</td>\n      <td>19.57</td>\n      <td>2.28</td>\n      <td>2.79</td>\n      <td>2.46</td>\n      <td>0.75</td>\n      <td>1.32</td>\n      <td>0.35</td>\n    </tr>\n    <tr>\n      <th>min</th>\n      <td>1.00</td>\n      <td>408.00</td>\n      <td>0.00</td>\n      <td>0.00</td>\n      <td>0.00</td>\n      <td>0.00</td>\n      <td>0.00</td>\n      <td>0.00</td>\n      <td>0.00</td>\n      <td>23.20</td>\n      <td>33.00</td>\n      <td>1.04</td>\n      <td>0.00</td>\n      <td>0.00</td>\n      <td>0.00</td>\n      <td>0.00</td>\n      <td>0.00</td>\n    </tr>\n    <tr>\n      <th>25%</th>\n      <td>74.00</td>\n      <td>408.00</td>\n      <td>0.00</td>\n      <td>143.70</td>\n      <td>87.00</td>\n      <td>24.43</td>\n      <td>166.60</td>\n      <td>87.00</td>\n      <td>14.16</td>\n      <td>167.00</td>\n      <td>87.00</td>\n      <td>7.52</td>\n      <td>8.50</td>\n      <td>3.00</td>\n      <td>2.30</td>\n      <td>1.00</td>\n      <td>0.00</td>\n    </tr>\n    <tr>\n      <th>50%</th>\n      <td>101.00</td>\n      <td>415.00</td>\n      <td>0.00</td>\n      <td>179.40</td>\n      <td>101.00</td>\n      <td>30.50</td>\n      <td>201.40</td>\n      <td>100.00</td>\n      <td>17.12</td>\n      <td>201.20</td>\n      <td>100.00</td>\n      <td>9.05</td>\n      <td>10.30</td>\n      <td>4.00</td>\n      <td>2.78</td>\n      <td>1.00</td>\n      <td>0.00</td>\n    </tr>\n    <tr>\n      <th>75%</th>\n      <td>127.00</td>\n      <td>510.00</td>\n      <td>20.00</td>\n      <td>216.40</td>\n      <td>114.00</td>\n      <td>36.79</td>\n      <td>235.30</td>\n      <td>114.00</td>\n      <td>20.00</td>\n      <td>235.30</td>\n      <td>113.00</td>\n      <td>10.59</td>\n      <td>12.10</td>\n      <td>6.00</td>\n      <td>3.27</td>\n      <td>2.00</td>\n      <td>0.00</td>\n    </tr>\n    <tr>\n      <th>max</th>\n      <td>243.00</td>\n      <td>510.00</td>\n      <td>51.00</td>\n      <td>350.80</td>\n      <td>165.00</td>\n      <td>59.64</td>\n      <td>363.70</td>\n      <td>170.00</td>\n      <td>30.91</td>\n      <td>395.00</td>\n      <td>175.00</td>\n      <td>17.77</td>\n      <td>20.00</td>\n      <td>20.00</td>\n      <td>5.40</td>\n      <td>9.00</td>\n      <td>1.00</td>\n    </tr>\n  </tbody>\n</table>\n</div>"
     },
     "metadata": {},
     "execution_count": 42
    }
   ],
   "source": [
    "df.describe()"
   ]
  },
  {
   "cell_type": "markdown",
   "id": "biological-atmosphere",
   "metadata": {
    "_uuid": "2314370435c6c44da57d4c97ad01ace128047fd5",
    "papermill": {
     "duration": 0.047152,
     "end_time": "2021-05-07T08:36:00.969523",
     "exception": false,
     "start_time": "2021-05-07T08:36:00.922371",
     "status": "completed"
    },
    "tags": []
   },
   "source": [
    "In order to see statistics on non-numerical features, one has to explicitly indicate data types of interest in the `include` parameter."
   ]
  },
  {
   "cell_type": "code",
   "execution_count": 43,
   "id": "tested-handbook",
   "metadata": {
    "_uuid": "c1bd67bc0b915dbac429152c649a7c118770d824",
    "execution": {
     "iopub.execute_input": "2021-05-07T08:36:01.074495Z",
     "iopub.status.busy": "2021-05-07T08:36:01.073544Z",
     "iopub.status.idle": "2021-05-07T08:36:01.106935Z",
     "shell.execute_reply": "2021-05-07T08:36:01.107411Z"
    },
    "papermill": {
     "duration": 0.090009,
     "end_time": "2021-05-07T08:36:01.107585",
     "exception": false,
     "start_time": "2021-05-07T08:36:01.017576",
     "status": "completed"
    },
    "tags": []
   },
   "outputs": [
    {
     "output_type": "execute_result",
     "data": {
      "text/plain": [
       "       State Phone number International plan Voice mail plan\n",
       "count   3333         3333               3333            3333\n",
       "unique    51         3333                  2               2\n",
       "top       WV     391-1499                 no              no\n",
       "freq     106            1               3010            2411"
      ],
      "text/html": "<div>\n<style scoped>\n    .dataframe tbody tr th:only-of-type {\n        vertical-align: middle;\n    }\n\n    .dataframe tbody tr th {\n        vertical-align: top;\n    }\n\n    .dataframe thead th {\n        text-align: right;\n    }\n</style>\n<table border=\"1\" class=\"dataframe\">\n  <thead>\n    <tr style=\"text-align: right;\">\n      <th></th>\n      <th>State</th>\n      <th>Phone number</th>\n      <th>International plan</th>\n      <th>Voice mail plan</th>\n    </tr>\n  </thead>\n  <tbody>\n    <tr>\n      <th>count</th>\n      <td>3333</td>\n      <td>3333</td>\n      <td>3333</td>\n      <td>3333</td>\n    </tr>\n    <tr>\n      <th>unique</th>\n      <td>51</td>\n      <td>3333</td>\n      <td>2</td>\n      <td>2</td>\n    </tr>\n    <tr>\n      <th>top</th>\n      <td>WV</td>\n      <td>391-1499</td>\n      <td>no</td>\n      <td>no</td>\n    </tr>\n    <tr>\n      <th>freq</th>\n      <td>106</td>\n      <td>1</td>\n      <td>3010</td>\n      <td>2411</td>\n    </tr>\n  </tbody>\n</table>\n</div>"
     },
     "metadata": {},
     "execution_count": 43
    }
   ],
   "source": [
    "df.describe(include=[\"object\", \"bool\"])"
   ]
  },
  {
   "cell_type": "markdown",
   "id": "motivated-mileage",
   "metadata": {
    "_uuid": "7acac4f33f2229215aa7818b10f4dfb1fafd96af",
    "papermill": {
     "duration": 0.047002,
     "end_time": "2021-05-07T08:36:01.201882",
     "exception": false,
     "start_time": "2021-05-07T08:36:01.154880",
     "status": "completed"
    },
    "tags": []
   },
   "source": [
    "For categorical (type `object`) and boolean (type `bool`) features we can use the `value_counts` method. Let's have a look at the distribution of `Churn`:"
   ]
  },
  {
   "cell_type": "code",
   "execution_count": 44,
   "id": "seeing-hughes",
   "metadata": {
    "_uuid": "eef4f419ac223f320d1841635ffbb816c807fe54",
    "execution": {
     "iopub.execute_input": "2021-05-07T08:36:01.302337Z",
     "iopub.status.busy": "2021-05-07T08:36:01.301344Z",
     "iopub.status.idle": "2021-05-07T08:36:01.308386Z",
     "shell.execute_reply": "2021-05-07T08:36:01.308822Z"
    },
    "papermill": {
     "duration": 0.059434,
     "end_time": "2021-05-07T08:36:01.308989",
     "exception": false,
     "start_time": "2021-05-07T08:36:01.249555",
     "status": "completed"
    },
    "tags": []
   },
   "outputs": [
    {
     "output_type": "execute_result",
     "data": {
      "text/plain": [
       "0    2850\n",
       "1     483\n",
       "Name: Churn, dtype: int64"
      ]
     },
     "metadata": {},
     "execution_count": 44
    }
   ],
   "source": [
    "df[\"Churn\"].value_counts()"
   ]
  },
  {
   "cell_type": "markdown",
   "id": "pharmaceutical-boundary",
   "metadata": {
    "_uuid": "78e28e7dbdd84116fe5c30a56f6c649befadd832",
    "papermill": {
     "duration": 0.048071,
     "end_time": "2021-05-07T08:36:01.406639",
     "exception": false,
     "start_time": "2021-05-07T08:36:01.358568",
     "status": "completed"
    },
    "tags": []
   },
   "source": [
    "2850 users out of 3333 are *loyal*; their `Churn` value is `0`. To calculate fractions, pass `normalize=True` to the `value_counts` function."
   ]
  },
  {
   "cell_type": "code",
   "execution_count": 45,
   "id": "unlikely-huntington",
   "metadata": {
    "_uuid": "b516f5e583ac75e0379048738386ece5b208f0e7",
    "execution": {
     "iopub.execute_input": "2021-05-07T08:36:01.508152Z",
     "iopub.status.busy": "2021-05-07T08:36:01.507193Z",
     "iopub.status.idle": "2021-05-07T08:36:01.516259Z",
     "shell.execute_reply": "2021-05-07T08:36:01.515603Z"
    },
    "papermill": {
     "duration": 0.061004,
     "end_time": "2021-05-07T08:36:01.516405",
     "exception": false,
     "start_time": "2021-05-07T08:36:01.455401",
     "status": "completed"
    },
    "tags": []
   },
   "outputs": [
    {
     "output_type": "execute_result",
     "data": {
      "text/plain": [
       "0    0.86\n",
       "1    0.14\n",
       "Name: Churn, dtype: float64"
      ]
     },
     "metadata": {},
     "execution_count": 45
    }
   ],
   "source": [
    "df[\"Churn\"].value_counts(normalize=True)"
   ]
  },
  {
   "cell_type": "markdown",
   "id": "vertical-knock",
   "metadata": {
    "_uuid": "7f54ceacde8fe8b61fca39694651c82ba43a5b2c",
    "papermill": {
     "duration": 0.04864,
     "end_time": "2021-05-07T08:36:01.614122",
     "exception": false,
     "start_time": "2021-05-07T08:36:01.565482",
     "status": "completed"
    },
    "tags": []
   },
   "source": [
    "\n",
    "### Sorting\n",
    "\n",
    "A DataFrame can be sorted by the value of one of the variables (i.e columns). For example, we can sort by *Total day charge* (use `ascending=False` to sort in descending order):\n"
   ]
  },
  {
   "cell_type": "code",
   "execution_count": 46,
   "id": "promising-smooth",
   "metadata": {
    "_uuid": "419200266ac1e7d0e96ba1a20d756c9d87eb2541",
    "execution": {
     "iopub.execute_input": "2021-05-07T08:36:01.716905Z",
     "iopub.status.busy": "2021-05-07T08:36:01.716252Z",
     "iopub.status.idle": "2021-05-07T08:36:01.737568Z",
     "shell.execute_reply": "2021-05-07T08:36:01.738124Z"
    },
    "papermill": {
     "duration": 0.07572,
     "end_time": "2021-05-07T08:36:01.738320",
     "exception": false,
     "start_time": "2021-05-07T08:36:01.662600",
     "status": "completed"
    },
    "tags": []
   },
   "outputs": [
    {
     "output_type": "execute_result",
     "data": {
      "text/plain": [
       "     State  Account length  Area code Phone number International plan  \\\n",
       "365     CO             154        415     343-5709                 no   \n",
       "985     NY              64        415     345-9140                yes   \n",
       "2594    OH             115        510     348-1163                yes   \n",
       "156     OH              83        415     370-9116                 no   \n",
       "605     MO             112        415     373-2053                 no   \n",
       "\n",
       "     Voice mail plan  Number vmail messages  Total day minutes  \\\n",
       "365               no                      0              350.8   \n",
       "985               no                      0              346.8   \n",
       "2594              no                      0              345.3   \n",
       "156               no                      0              337.4   \n",
       "605               no                      0              335.5   \n",
       "\n",
       "      Total day calls  Total day charge  ...  Total eve calls  \\\n",
       "365                75             59.64  ...               94   \n",
       "985                55             58.96  ...               79   \n",
       "2594               81             58.70  ...              106   \n",
       "156               120             57.36  ...              116   \n",
       "605                77             57.04  ...              109   \n",
       "\n",
       "      Total eve charge  Total night minutes  Total night calls  \\\n",
       "365              18.40                253.9                100   \n",
       "985              21.21                275.4                102   \n",
       "2594             17.29                217.5                107   \n",
       "156              19.33                153.9                114   \n",
       "605              18.06                265.0                132   \n",
       "\n",
       "      Total night charge  Total intl minutes  Total intl calls  \\\n",
       "365                11.43                10.1                 9   \n",
       "985                12.39                13.3                 9   \n",
       "2594                9.79                11.8                 8   \n",
       "156                 6.93                15.8                 7   \n",
       "605                11.93                12.7                 8   \n",
       "\n",
       "      Total intl charge  Customer service calls  Churn  \n",
       "365                2.73                       1      1  \n",
       "985                3.59                       1      1  \n",
       "2594               3.19                       1      1  \n",
       "156                4.27                       0      1  \n",
       "605                3.43                       2      1  \n",
       "\n",
       "[5 rows x 21 columns]"
      ],
      "text/html": "<div>\n<style scoped>\n    .dataframe tbody tr th:only-of-type {\n        vertical-align: middle;\n    }\n\n    .dataframe tbody tr th {\n        vertical-align: top;\n    }\n\n    .dataframe thead th {\n        text-align: right;\n    }\n</style>\n<table border=\"1\" class=\"dataframe\">\n  <thead>\n    <tr style=\"text-align: right;\">\n      <th></th>\n      <th>State</th>\n      <th>Account length</th>\n      <th>Area code</th>\n      <th>Phone number</th>\n      <th>International plan</th>\n      <th>Voice mail plan</th>\n      <th>Number vmail messages</th>\n      <th>Total day minutes</th>\n      <th>Total day calls</th>\n      <th>Total day charge</th>\n      <th>...</th>\n      <th>Total eve calls</th>\n      <th>Total eve charge</th>\n      <th>Total night minutes</th>\n      <th>Total night calls</th>\n      <th>Total night charge</th>\n      <th>Total intl minutes</th>\n      <th>Total intl calls</th>\n      <th>Total intl charge</th>\n      <th>Customer service calls</th>\n      <th>Churn</th>\n    </tr>\n  </thead>\n  <tbody>\n    <tr>\n      <th>365</th>\n      <td>CO</td>\n      <td>154</td>\n      <td>415</td>\n      <td>343-5709</td>\n      <td>no</td>\n      <td>no</td>\n      <td>0</td>\n      <td>350.8</td>\n      <td>75</td>\n      <td>59.64</td>\n      <td>...</td>\n      <td>94</td>\n      <td>18.40</td>\n      <td>253.9</td>\n      <td>100</td>\n      <td>11.43</td>\n      <td>10.1</td>\n      <td>9</td>\n      <td>2.73</td>\n      <td>1</td>\n      <td>1</td>\n    </tr>\n    <tr>\n      <th>985</th>\n      <td>NY</td>\n      <td>64</td>\n      <td>415</td>\n      <td>345-9140</td>\n      <td>yes</td>\n      <td>no</td>\n      <td>0</td>\n      <td>346.8</td>\n      <td>55</td>\n      <td>58.96</td>\n      <td>...</td>\n      <td>79</td>\n      <td>21.21</td>\n      <td>275.4</td>\n      <td>102</td>\n      <td>12.39</td>\n      <td>13.3</td>\n      <td>9</td>\n      <td>3.59</td>\n      <td>1</td>\n      <td>1</td>\n    </tr>\n    <tr>\n      <th>2594</th>\n      <td>OH</td>\n      <td>115</td>\n      <td>510</td>\n      <td>348-1163</td>\n      <td>yes</td>\n      <td>no</td>\n      <td>0</td>\n      <td>345.3</td>\n      <td>81</td>\n      <td>58.70</td>\n      <td>...</td>\n      <td>106</td>\n      <td>17.29</td>\n      <td>217.5</td>\n      <td>107</td>\n      <td>9.79</td>\n      <td>11.8</td>\n      <td>8</td>\n      <td>3.19</td>\n      <td>1</td>\n      <td>1</td>\n    </tr>\n    <tr>\n      <th>156</th>\n      <td>OH</td>\n      <td>83</td>\n      <td>415</td>\n      <td>370-9116</td>\n      <td>no</td>\n      <td>no</td>\n      <td>0</td>\n      <td>337.4</td>\n      <td>120</td>\n      <td>57.36</td>\n      <td>...</td>\n      <td>116</td>\n      <td>19.33</td>\n      <td>153.9</td>\n      <td>114</td>\n      <td>6.93</td>\n      <td>15.8</td>\n      <td>7</td>\n      <td>4.27</td>\n      <td>0</td>\n      <td>1</td>\n    </tr>\n    <tr>\n      <th>605</th>\n      <td>MO</td>\n      <td>112</td>\n      <td>415</td>\n      <td>373-2053</td>\n      <td>no</td>\n      <td>no</td>\n      <td>0</td>\n      <td>335.5</td>\n      <td>77</td>\n      <td>57.04</td>\n      <td>...</td>\n      <td>109</td>\n      <td>18.06</td>\n      <td>265.0</td>\n      <td>132</td>\n      <td>11.93</td>\n      <td>12.7</td>\n      <td>8</td>\n      <td>3.43</td>\n      <td>2</td>\n      <td>1</td>\n    </tr>\n  </tbody>\n</table>\n<p>5 rows × 21 columns</p>\n</div>"
     },
     "metadata": {},
     "execution_count": 46
    }
   ],
   "source": [
    "df.sort_values(by=\"Total day charge\", ascending=False).head()"
   ]
  },
  {
   "cell_type": "markdown",
   "id": "hairy-advancement",
   "metadata": {
    "_uuid": "ad38052b7cc86b6ff5b35907c5a69ed3dacfcdef",
    "papermill": {
     "duration": 0.049226,
     "end_time": "2021-05-07T08:36:01.837466",
     "exception": false,
     "start_time": "2021-05-07T08:36:01.788240",
     "status": "completed"
    },
    "tags": []
   },
   "source": [
    "We can also sort by multiple columns:"
   ]
  },
  {
   "cell_type": "code",
   "execution_count": 47,
   "id": "widespread-maintenance",
   "metadata": {
    "_uuid": "db028bb799847b257a1107226ec599484596bc1e",
    "execution": {
     "iopub.execute_input": "2021-05-07T08:36:01.939941Z",
     "iopub.status.busy": "2021-05-07T08:36:01.939272Z",
     "iopub.status.idle": "2021-05-07T08:36:01.972086Z",
     "shell.execute_reply": "2021-05-07T08:36:01.971535Z"
    },
    "papermill": {
     "duration": 0.085068,
     "end_time": "2021-05-07T08:36:01.972232",
     "exception": false,
     "start_time": "2021-05-07T08:36:01.887164",
     "status": "completed"
    },
    "tags": []
   },
   "outputs": [
    {
     "output_type": "execute_result",
     "data": {
      "text/plain": [
       "     State  Account length  Area code Phone number International plan  \\\n",
       "688     MN              13        510     338-7120                 no   \n",
       "2259    NC             210        415     363-7802                 no   \n",
       "534     LA              67        510     373-6784                 no   \n",
       "575     SD             114        415     351-7369                 no   \n",
       "2858    AL             141        510     388-8583                 no   \n",
       "\n",
       "     Voice mail plan  Number vmail messages  Total day minutes  \\\n",
       "688              yes                     21              315.6   \n",
       "2259             yes                     31              313.8   \n",
       "534               no                      0              310.4   \n",
       "575              yes                     36              309.9   \n",
       "2858             yes                     28              308.0   \n",
       "\n",
       "      Total day calls  Total day charge  ...  Total eve calls  \\\n",
       "688               105             53.65  ...               71   \n",
       "2259               87             53.35  ...              103   \n",
       "534                97             52.77  ...              123   \n",
       "575                90             52.68  ...               89   \n",
       "2858              123             52.36  ...              128   \n",
       "\n",
       "      Total eve charge  Total night minutes  Total night calls  \\\n",
       "688              17.76                260.1                123   \n",
       "2259             12.55                192.7                 97   \n",
       "534               5.65                246.5                 99   \n",
       "575              17.03                183.5                105   \n",
       "2858             21.06                152.9                103   \n",
       "\n",
       "      Total night charge  Total intl minutes  Total intl calls  \\\n",
       "688                11.70                12.1                 3   \n",
       "2259                8.67                10.1                 7   \n",
       "534                11.09                 9.2                10   \n",
       "575                 8.26                14.2                 2   \n",
       "2858                6.88                 7.4                 3   \n",
       "\n",
       "      Total intl charge  Customer service calls  Churn  \n",
       "688                3.27                       3      0  \n",
       "2259               2.73                       3      0  \n",
       "534                2.48                       4      0  \n",
       "575                3.83                       1      0  \n",
       "2858               2.00                       1      0  \n",
       "\n",
       "[5 rows x 21 columns]"
      ],
      "text/html": "<div>\n<style scoped>\n    .dataframe tbody tr th:only-of-type {\n        vertical-align: middle;\n    }\n\n    .dataframe tbody tr th {\n        vertical-align: top;\n    }\n\n    .dataframe thead th {\n        text-align: right;\n    }\n</style>\n<table border=\"1\" class=\"dataframe\">\n  <thead>\n    <tr style=\"text-align: right;\">\n      <th></th>\n      <th>State</th>\n      <th>Account length</th>\n      <th>Area code</th>\n      <th>Phone number</th>\n      <th>International plan</th>\n      <th>Voice mail plan</th>\n      <th>Number vmail messages</th>\n      <th>Total day minutes</th>\n      <th>Total day calls</th>\n      <th>Total day charge</th>\n      <th>...</th>\n      <th>Total eve calls</th>\n      <th>Total eve charge</th>\n      <th>Total night minutes</th>\n      <th>Total night calls</th>\n      <th>Total night charge</th>\n      <th>Total intl minutes</th>\n      <th>Total intl calls</th>\n      <th>Total intl charge</th>\n      <th>Customer service calls</th>\n      <th>Churn</th>\n    </tr>\n  </thead>\n  <tbody>\n    <tr>\n      <th>688</th>\n      <td>MN</td>\n      <td>13</td>\n      <td>510</td>\n      <td>338-7120</td>\n      <td>no</td>\n      <td>yes</td>\n      <td>21</td>\n      <td>315.6</td>\n      <td>105</td>\n      <td>53.65</td>\n      <td>...</td>\n      <td>71</td>\n      <td>17.76</td>\n      <td>260.1</td>\n      <td>123</td>\n      <td>11.70</td>\n      <td>12.1</td>\n      <td>3</td>\n      <td>3.27</td>\n      <td>3</td>\n      <td>0</td>\n    </tr>\n    <tr>\n      <th>2259</th>\n      <td>NC</td>\n      <td>210</td>\n      <td>415</td>\n      <td>363-7802</td>\n      <td>no</td>\n      <td>yes</td>\n      <td>31</td>\n      <td>313.8</td>\n      <td>87</td>\n      <td>53.35</td>\n      <td>...</td>\n      <td>103</td>\n      <td>12.55</td>\n      <td>192.7</td>\n      <td>97</td>\n      <td>8.67</td>\n      <td>10.1</td>\n      <td>7</td>\n      <td>2.73</td>\n      <td>3</td>\n      <td>0</td>\n    </tr>\n    <tr>\n      <th>534</th>\n      <td>LA</td>\n      <td>67</td>\n      <td>510</td>\n      <td>373-6784</td>\n      <td>no</td>\n      <td>no</td>\n      <td>0</td>\n      <td>310.4</td>\n      <td>97</td>\n      <td>52.77</td>\n      <td>...</td>\n      <td>123</td>\n      <td>5.65</td>\n      <td>246.5</td>\n      <td>99</td>\n      <td>11.09</td>\n      <td>9.2</td>\n      <td>10</td>\n      <td>2.48</td>\n      <td>4</td>\n      <td>0</td>\n    </tr>\n    <tr>\n      <th>575</th>\n      <td>SD</td>\n      <td>114</td>\n      <td>415</td>\n      <td>351-7369</td>\n      <td>no</td>\n      <td>yes</td>\n      <td>36</td>\n      <td>309.9</td>\n      <td>90</td>\n      <td>52.68</td>\n      <td>...</td>\n      <td>89</td>\n      <td>17.03</td>\n      <td>183.5</td>\n      <td>105</td>\n      <td>8.26</td>\n      <td>14.2</td>\n      <td>2</td>\n      <td>3.83</td>\n      <td>1</td>\n      <td>0</td>\n    </tr>\n    <tr>\n      <th>2858</th>\n      <td>AL</td>\n      <td>141</td>\n      <td>510</td>\n      <td>388-8583</td>\n      <td>no</td>\n      <td>yes</td>\n      <td>28</td>\n      <td>308.0</td>\n      <td>123</td>\n      <td>52.36</td>\n      <td>...</td>\n      <td>128</td>\n      <td>21.06</td>\n      <td>152.9</td>\n      <td>103</td>\n      <td>6.88</td>\n      <td>7.4</td>\n      <td>3</td>\n      <td>2.00</td>\n      <td>1</td>\n      <td>0</td>\n    </tr>\n  </tbody>\n</table>\n<p>5 rows × 21 columns</p>\n</div>"
     },
     "metadata": {},
     "execution_count": 47
    }
   ],
   "source": [
    "df.sort_values(by=[\"Churn\", \"Total day charge\"], ascending=[True, False]).head()"
   ]
  },
  {
   "cell_type": "markdown",
   "id": "qualified-database",
   "metadata": {
    "_uuid": "ff41ebcef7b883413530260388df7e23996862ba",
    "papermill": {
     "duration": 0.050502,
     "end_time": "2021-05-07T08:36:02.073347",
     "exception": false,
     "start_time": "2021-05-07T08:36:02.022845",
     "status": "completed"
    },
    "tags": []
   },
   "source": [
    "### Indexing and retrieving data\n",
    "\n",
    "A DataFrame can be indexed in a few different ways. \n",
    "\n",
    "To get a single column, you can use a `DataFrame['Name']` construction. Let's use this to answer a question about that column alone: **what is the proportion of churned users in our dataframe?**"
   ]
  },
  {
   "cell_type": "code",
   "execution_count": 48,
   "id": "ordinary-prevention",
   "metadata": {
    "_uuid": "b020796a83bc9e10b1bc8e9c6439fc006302d999",
    "execution": {
     "iopub.execute_input": "2021-05-07T08:36:02.180259Z",
     "iopub.status.busy": "2021-05-07T08:36:02.179584Z",
     "iopub.status.idle": "2021-05-07T08:36:02.183209Z",
     "shell.execute_reply": "2021-05-07T08:36:02.182614Z"
    },
    "papermill": {
     "duration": 0.058982,
     "end_time": "2021-05-07T08:36:02.183348",
     "exception": false,
     "start_time": "2021-05-07T08:36:02.124366",
     "status": "completed"
    },
    "tags": []
   },
   "outputs": [
    {
     "output_type": "execute_result",
     "data": {
      "text/plain": [
       "0.14491449144914492"
      ]
     },
     "metadata": {},
     "execution_count": 48
    }
   ],
   "source": [
    "df[\"Churn\"].mean()"
   ]
  },
  {
   "cell_type": "markdown",
   "id": "persistent-moore",
   "metadata": {
    "_uuid": "8abe3b0982e4599e775f08d8f2feab2b8a702a7b",
    "papermill": {
     "duration": 0.050992,
     "end_time": "2021-05-07T08:36:02.286636",
     "exception": false,
     "start_time": "2021-05-07T08:36:02.235644",
     "status": "completed"
    },
    "tags": []
   },
   "source": [
    "14.5% is actually quite bad for a company; such a churn rate can make the company go bankrupt.\n",
    "\n",
    "**Boolean indexing** with one column is also very convenient. The syntax is `df[P(df['Name'])]`, where `P` is some logical condition that is checked for each element of the `Name` column. The result of such indexing is the DataFrame consisting only of rows that satisfy the `P` condition on the `Name` column. \n",
    "\n",
    "Let's use it to answer the question:\n",
    "\n",
    "**What are average values of numerical features for churned users?**"
   ]
  },
  {
   "cell_type": "code",
   "execution_count": 49,
   "id": "every-consent",
   "metadata": {
    "_uuid": "3712d185e50d44c65128468c603b120b75786c84",
    "execution": {
     "iopub.execute_input": "2021-05-07T08:36:02.397809Z",
     "iopub.status.busy": "2021-05-07T08:36:02.395328Z",
     "iopub.status.idle": "2021-05-07T08:36:02.402500Z",
     "shell.execute_reply": "2021-05-07T08:36:02.401801Z"
    },
    "papermill": {
     "duration": 0.065332,
     "end_time": "2021-05-07T08:36:02.402644",
     "exception": false,
     "start_time": "2021-05-07T08:36:02.337312",
     "status": "completed"
    },
    "tags": []
   },
   "outputs": [
    {
     "output_type": "execute_result",
     "data": {
      "text/plain": [
       "Account length            102.66\n",
       "Area code                 437.82\n",
       "Number vmail messages       5.12\n",
       "Total day minutes         206.91\n",
       "Total day calls           101.34\n",
       "Total day charge           35.18\n",
       "Total eve minutes         212.41\n",
       "Total eve calls           100.56\n",
       "Total eve charge           18.05\n",
       "Total night minutes       205.23\n",
       "Total night calls         100.40\n",
       "Total night charge          9.24\n",
       "Total intl minutes         10.70\n",
       "Total intl calls            4.16\n",
       "Total intl charge           2.89\n",
       "Customer service calls      2.23\n",
       "Churn                       1.00\n",
       "dtype: float64"
      ]
     },
     "metadata": {},
     "execution_count": 49
    }
   ],
   "source": [
    "df[df[\"Churn\"] == 1].mean()"
   ]
  },
  {
   "cell_type": "markdown",
   "id": "smart-nevada",
   "metadata": {
    "_uuid": "126e527e04c244c71edd9eac3abcc4a0a8bcd2cb",
    "papermill": {
     "duration": 0.050421,
     "end_time": "2021-05-07T08:36:02.504910",
     "exception": false,
     "start_time": "2021-05-07T08:36:02.454489",
     "status": "completed"
    },
    "tags": []
   },
   "source": [
    "**How much time (on average) do churned users spend on the phone during daytime?**"
   ]
  },
  {
   "cell_type": "code",
   "execution_count": 50,
   "id": "unusual-wagner",
   "metadata": {
    "_uuid": "314dfa8e0aeaa0a1d333e32234bd9b3e0a001348",
    "execution": {
     "iopub.execute_input": "2021-05-07T08:36:02.619263Z",
     "iopub.status.busy": "2021-05-07T08:36:02.618350Z",
     "iopub.status.idle": "2021-05-07T08:36:02.623825Z",
     "shell.execute_reply": "2021-05-07T08:36:02.623194Z"
    },
    "papermill": {
     "duration": 0.068325,
     "end_time": "2021-05-07T08:36:02.623964",
     "exception": false,
     "start_time": "2021-05-07T08:36:02.555639",
     "status": "completed"
    },
    "tags": []
   },
   "outputs": [
    {
     "output_type": "execute_result",
     "data": {
      "text/plain": [
       "206.91407867494814"
      ]
     },
     "metadata": {},
     "execution_count": 50
    }
   ],
   "source": [
    "df[df[\"Churn\"] == 1][\"Total day minutes\"].mean()"
   ]
  },
  {
   "cell_type": "markdown",
   "id": "noted-tender",
   "metadata": {
    "_uuid": "ef0358493f1731814d1bb34759ec6a0fad822487",
    "papermill": {
     "duration": 0.052239,
     "end_time": "2021-05-07T08:36:02.745350",
     "exception": false,
     "start_time": "2021-05-07T08:36:02.693111",
     "status": "completed"
    },
    "tags": []
   },
   "source": [
    "\n",
    "**What is the maximum length of international calls among loyal users (`Churn == 0`) who do not have an international plan?**\n",
    "\n"
   ]
  },
  {
   "cell_type": "code",
   "execution_count": 51,
   "id": "crucial-thompson",
   "metadata": {
    "_uuid": "41874ec9bde4b2474a0bb9faf93795b2ae6cdf24",
    "execution": {
     "iopub.execute_input": "2021-05-07T08:36:02.856821Z",
     "iopub.status.busy": "2021-05-07T08:36:02.856041Z",
     "iopub.status.idle": "2021-05-07T08:36:02.862391Z",
     "shell.execute_reply": "2021-05-07T08:36:02.862840Z"
    },
    "papermill": {
     "duration": 0.066365,
     "end_time": "2021-05-07T08:36:02.863017",
     "exception": false,
     "start_time": "2021-05-07T08:36:02.796652",
     "status": "completed"
    },
    "tags": []
   },
   "outputs": [
    {
     "output_type": "execute_result",
     "data": {
      "text/plain": [
       "nan"
      ]
     },
     "metadata": {},
     "execution_count": 51
    }
   ],
   "source": [
    "df[(df[\"Churn\"] == 0) & (df[\"International plan\"] == \"No\")][\"Total intl minutes\"].max()"
   ]
  },
  {
   "cell_type": "markdown",
   "id": "seasonal-minority",
   "metadata": {
    "_uuid": "69353301d299fd09c3114afef0778693a163418e",
    "papermill": {
     "duration": 0.052485,
     "end_time": "2021-05-07T08:36:02.968770",
     "exception": false,
     "start_time": "2021-05-07T08:36:02.916285",
     "status": "completed"
    },
    "tags": []
   },
   "source": [
    "DataFrames can be indexed by column name (label) or row name (index) or by the serial number of a row. The `loc` method is used for **indexing by name**, while `iloc()` is used for **indexing by number**.\n",
    "\n",
    "In the first case below, we say *\"give us the values of the rows with index from 0 to 5 (inclusive) and columns labeled from State to Area code (inclusive)\"*. In the second case, we say *\"give us the values of the first five rows in the first three columns\"* (as in a typical Python slice: the maximal value is not included)."
   ]
  },
  {
   "cell_type": "code",
   "execution_count": 52,
   "id": "express-steps",
   "metadata": {
    "_uuid": "e16024cbb42c7612a6805ed1442ca68cecd4526f",
    "execution": {
     "iopub.execute_input": "2021-05-07T08:36:03.087565Z",
     "iopub.status.busy": "2021-05-07T08:36:03.086633Z",
     "iopub.status.idle": "2021-05-07T08:36:03.091680Z",
     "shell.execute_reply": "2021-05-07T08:36:03.091178Z"
    },
    "papermill": {
     "duration": 0.071146,
     "end_time": "2021-05-07T08:36:03.091819",
     "exception": false,
     "start_time": "2021-05-07T08:36:03.020673",
     "status": "completed"
    },
    "tags": []
   },
   "outputs": [
    {
     "output_type": "execute_result",
     "data": {
      "text/plain": [
       "  State  Account length  Area code\n",
       "0    KS             128        415\n",
       "1    OH             107        415\n",
       "2    NJ             137        415\n",
       "3    OH              84        408\n",
       "4    OK              75        415\n",
       "5    AL             118        510"
      ],
      "text/html": "<div>\n<style scoped>\n    .dataframe tbody tr th:only-of-type {\n        vertical-align: middle;\n    }\n\n    .dataframe tbody tr th {\n        vertical-align: top;\n    }\n\n    .dataframe thead th {\n        text-align: right;\n    }\n</style>\n<table border=\"1\" class=\"dataframe\">\n  <thead>\n    <tr style=\"text-align: right;\">\n      <th></th>\n      <th>State</th>\n      <th>Account length</th>\n      <th>Area code</th>\n    </tr>\n  </thead>\n  <tbody>\n    <tr>\n      <th>0</th>\n      <td>KS</td>\n      <td>128</td>\n      <td>415</td>\n    </tr>\n    <tr>\n      <th>1</th>\n      <td>OH</td>\n      <td>107</td>\n      <td>415</td>\n    </tr>\n    <tr>\n      <th>2</th>\n      <td>NJ</td>\n      <td>137</td>\n      <td>415</td>\n    </tr>\n    <tr>\n      <th>3</th>\n      <td>OH</td>\n      <td>84</td>\n      <td>408</td>\n    </tr>\n    <tr>\n      <th>4</th>\n      <td>OK</td>\n      <td>75</td>\n      <td>415</td>\n    </tr>\n    <tr>\n      <th>5</th>\n      <td>AL</td>\n      <td>118</td>\n      <td>510</td>\n    </tr>\n  </tbody>\n</table>\n</div>"
     },
     "metadata": {},
     "execution_count": 52
    }
   ],
   "source": [
    "df.loc[0:5, \"State\":\"Area code\"]"
   ]
  },
  {
   "cell_type": "code",
   "execution_count": 53,
   "id": "hollywood-seven",
   "metadata": {
    "_uuid": "0088ea1feeb310133ff979007bbf10f27554faee",
    "execution": {
     "iopub.execute_input": "2021-05-07T08:36:03.208145Z",
     "iopub.status.busy": "2021-05-07T08:36:03.207483Z",
     "iopub.status.idle": "2021-05-07T08:36:03.211391Z",
     "shell.execute_reply": "2021-05-07T08:36:03.210854Z"
    },
    "papermill": {
     "duration": 0.066669,
     "end_time": "2021-05-07T08:36:03.211530",
     "exception": false,
     "start_time": "2021-05-07T08:36:03.144861",
     "status": "completed"
    },
    "tags": []
   },
   "outputs": [
    {
     "output_type": "execute_result",
     "data": {
      "text/plain": [
       "  State  Account length  Area code\n",
       "0    KS             128        415\n",
       "1    OH             107        415\n",
       "2    NJ             137        415\n",
       "3    OH              84        408\n",
       "4    OK              75        415"
      ],
      "text/html": "<div>\n<style scoped>\n    .dataframe tbody tr th:only-of-type {\n        vertical-align: middle;\n    }\n\n    .dataframe tbody tr th {\n        vertical-align: top;\n    }\n\n    .dataframe thead th {\n        text-align: right;\n    }\n</style>\n<table border=\"1\" class=\"dataframe\">\n  <thead>\n    <tr style=\"text-align: right;\">\n      <th></th>\n      <th>State</th>\n      <th>Account length</th>\n      <th>Area code</th>\n    </tr>\n  </thead>\n  <tbody>\n    <tr>\n      <th>0</th>\n      <td>KS</td>\n      <td>128</td>\n      <td>415</td>\n    </tr>\n    <tr>\n      <th>1</th>\n      <td>OH</td>\n      <td>107</td>\n      <td>415</td>\n    </tr>\n    <tr>\n      <th>2</th>\n      <td>NJ</td>\n      <td>137</td>\n      <td>415</td>\n    </tr>\n    <tr>\n      <th>3</th>\n      <td>OH</td>\n      <td>84</td>\n      <td>408</td>\n    </tr>\n    <tr>\n      <th>4</th>\n      <td>OK</td>\n      <td>75</td>\n      <td>415</td>\n    </tr>\n  </tbody>\n</table>\n</div>"
     },
     "metadata": {},
     "execution_count": 53
    }
   ],
   "source": [
    "df.iloc[0:5, 0:3]"
   ]
  },
  {
   "cell_type": "markdown",
   "id": "fabulous-airfare",
   "metadata": {
    "_uuid": "35d8ce07aeb613e44dbd577ff1b17d4d109a7e5d",
    "papermill": {
     "duration": 0.052309,
     "end_time": "2021-05-07T08:36:03.316956",
     "exception": false,
     "start_time": "2021-05-07T08:36:03.264647",
     "status": "completed"
    },
    "tags": []
   },
   "source": [
    "If we need the first or the last line of the data frame, we can use the `df[:1]` or `df[-1:]` construct:"
   ]
  },
  {
   "cell_type": "code",
   "execution_count": 54,
   "id": "stupid-context",
   "metadata": {
    "_uuid": "4af7fa312fc6ce80816fea6d0b960b8c01dee9ed",
    "execution": {
     "iopub.execute_input": "2021-05-07T08:36:03.441733Z",
     "iopub.status.busy": "2021-05-07T08:36:03.441111Z",
     "iopub.status.idle": "2021-05-07T08:36:03.446041Z",
     "shell.execute_reply": "2021-05-07T08:36:03.445564Z"
    },
    "papermill": {
     "duration": 0.076409,
     "end_time": "2021-05-07T08:36:03.446195",
     "exception": false,
     "start_time": "2021-05-07T08:36:03.369786",
     "status": "completed"
    },
    "tags": []
   },
   "outputs": [
    {
     "output_type": "execute_result",
     "data": {
      "text/plain": [
       "     State  Account length  Area code Phone number International plan  \\\n",
       "3332    TN              74        415     400-4344                 no   \n",
       "\n",
       "     Voice mail plan  Number vmail messages  Total day minutes  \\\n",
       "3332             yes                     25              234.4   \n",
       "\n",
       "      Total day calls  Total day charge  ...  Total eve calls  \\\n",
       "3332              113             39.85  ...               82   \n",
       "\n",
       "      Total eve charge  Total night minutes  Total night calls  \\\n",
       "3332              22.6                241.4                 77   \n",
       "\n",
       "      Total night charge  Total intl minutes  Total intl calls  \\\n",
       "3332               10.86                13.7                 4   \n",
       "\n",
       "      Total intl charge  Customer service calls  Churn  \n",
       "3332                3.7                       0      0  \n",
       "\n",
       "[1 rows x 21 columns]"
      ],
      "text/html": "<div>\n<style scoped>\n    .dataframe tbody tr th:only-of-type {\n        vertical-align: middle;\n    }\n\n    .dataframe tbody tr th {\n        vertical-align: top;\n    }\n\n    .dataframe thead th {\n        text-align: right;\n    }\n</style>\n<table border=\"1\" class=\"dataframe\">\n  <thead>\n    <tr style=\"text-align: right;\">\n      <th></th>\n      <th>State</th>\n      <th>Account length</th>\n      <th>Area code</th>\n      <th>Phone number</th>\n      <th>International plan</th>\n      <th>Voice mail plan</th>\n      <th>Number vmail messages</th>\n      <th>Total day minutes</th>\n      <th>Total day calls</th>\n      <th>Total day charge</th>\n      <th>...</th>\n      <th>Total eve calls</th>\n      <th>Total eve charge</th>\n      <th>Total night minutes</th>\n      <th>Total night calls</th>\n      <th>Total night charge</th>\n      <th>Total intl minutes</th>\n      <th>Total intl calls</th>\n      <th>Total intl charge</th>\n      <th>Customer service calls</th>\n      <th>Churn</th>\n    </tr>\n  </thead>\n  <tbody>\n    <tr>\n      <th>3332</th>\n      <td>TN</td>\n      <td>74</td>\n      <td>415</td>\n      <td>400-4344</td>\n      <td>no</td>\n      <td>yes</td>\n      <td>25</td>\n      <td>234.4</td>\n      <td>113</td>\n      <td>39.85</td>\n      <td>...</td>\n      <td>82</td>\n      <td>22.6</td>\n      <td>241.4</td>\n      <td>77</td>\n      <td>10.86</td>\n      <td>13.7</td>\n      <td>4</td>\n      <td>3.7</td>\n      <td>0</td>\n      <td>0</td>\n    </tr>\n  </tbody>\n</table>\n<p>1 rows × 21 columns</p>\n</div>"
     },
     "metadata": {},
     "execution_count": 54
    }
   ],
   "source": [
    "df[-1:]"
   ]
  },
  {
   "cell_type": "markdown",
   "id": "numerical-manchester",
   "metadata": {
    "_uuid": "a982c54dd9d60bd4e98e04a19942f6bad1d5d920",
    "papermill": {
     "duration": 0.053055,
     "end_time": "2021-05-07T08:36:03.552892",
     "exception": false,
     "start_time": "2021-05-07T08:36:03.499837",
     "status": "completed"
    },
    "tags": []
   },
   "source": [
    "\n",
    "### Applying Functions to Cells, Columns and Rows\n",
    "\n",
    "**To apply functions to each column, use `apply()`:**\n"
   ]
  },
  {
   "cell_type": "code",
   "execution_count": 55,
   "id": "sought-gallery",
   "metadata": {
    "_uuid": "ca4613b21459e0adc5c77ee4632cf35d749d4799",
    "execution": {
     "iopub.execute_input": "2021-05-07T08:36:03.665714Z",
     "iopub.status.busy": "2021-05-07T08:36:03.664785Z",
     "iopub.status.idle": "2021-05-07T08:36:03.676685Z",
     "shell.execute_reply": "2021-05-07T08:36:03.677201Z"
    },
    "papermill": {
     "duration": 0.070757,
     "end_time": "2021-05-07T08:36:03.677379",
     "exception": false,
     "start_time": "2021-05-07T08:36:03.606622",
     "status": "completed"
    },
    "tags": []
   },
   "outputs": [
    {
     "output_type": "execute_result",
     "data": {
      "text/plain": [
       "State                           WY\n",
       "Account length                 243\n",
       "Area code                      510\n",
       "Phone number              422-9964\n",
       "International plan             yes\n",
       "Voice mail plan                yes\n",
       "Number vmail messages           51\n",
       "Total day minutes            350.8\n",
       "Total day calls                165\n",
       "Total day charge             59.64\n",
       "Total eve minutes            363.7\n",
       "Total eve calls                170\n",
       "Total eve charge             30.91\n",
       "Total night minutes          395.0\n",
       "Total night calls              175\n",
       "Total night charge           17.77\n",
       "Total intl minutes            20.0\n",
       "Total intl calls                20\n",
       "Total intl charge              5.4\n",
       "Customer service calls           9\n",
       "Churn                            1\n",
       "dtype: object"
      ]
     },
     "metadata": {},
     "execution_count": 55
    }
   ],
   "source": [
    "df.apply(np.max)"
   ]
  },
  {
   "cell_type": "markdown",
   "id": "designed-bristol",
   "metadata": {
    "_uuid": "613f8dbb88fbaf512638ad5525f5fc14a94732e7",
    "papermill": {
     "duration": 0.053761,
     "end_time": "2021-05-07T08:36:03.785506",
     "exception": false,
     "start_time": "2021-05-07T08:36:03.731745",
     "status": "completed"
    },
    "tags": []
   },
   "source": [
    "The `apply` method can also be used to apply a function to each row. To do this, specify `axis=1`. Lambda functions are very convenient in such scenarios. For example, if we need to select all states starting with W, we can do it like this:"
   ]
  },
  {
   "cell_type": "code",
   "execution_count": 56,
   "id": "covered-skiing",
   "metadata": {
    "_uuid": "39c1d7262441f2fb8ab93b359b8cb1b773fcbaee",
    "execution": {
     "iopub.execute_input": "2021-05-07T08:36:03.898104Z",
     "iopub.status.busy": "2021-05-07T08:36:03.897123Z",
     "iopub.status.idle": "2021-05-07T08:36:03.920836Z",
     "shell.execute_reply": "2021-05-07T08:36:03.921389Z"
    },
    "papermill": {
     "duration": 0.081901,
     "end_time": "2021-05-07T08:36:03.921563",
     "exception": false,
     "start_time": "2021-05-07T08:36:03.839662",
     "status": "completed"
    },
    "tags": []
   },
   "outputs": [
    {
     "output_type": "execute_result",
     "data": {
      "text/plain": [
       "   State  Account length  Area code Phone number International plan  \\\n",
       "9     WV             141        415     330-8173                yes   \n",
       "26    WY              57        408     357-3817                 no   \n",
       "44    WI              64        510     352-1237                 no   \n",
       "49    WY              97        415     405-7146                 no   \n",
       "54    WY              87        415     353-3759                 no   \n",
       "\n",
       "   Voice mail plan  Number vmail messages  Total day minutes  Total day calls  \\\n",
       "9              yes                     37              258.6               84   \n",
       "26             yes                     39              213.0              115   \n",
       "44              no                      0              154.0               67   \n",
       "49             yes                     24              133.2              135   \n",
       "54              no                      0              151.0               83   \n",
       "\n",
       "    Total day charge  ...  Total eve calls  Total eve charge  \\\n",
       "9              43.96  ...              111             18.87   \n",
       "26             36.21  ...              112             16.24   \n",
       "44             26.18  ...              118             19.19   \n",
       "49             22.64  ...               58             18.46   \n",
       "54             25.67  ...              116             18.67   \n",
       "\n",
       "    Total night minutes  Total night calls  Total night charge  \\\n",
       "9                 326.4                 97               14.69   \n",
       "26                182.7                115                8.22   \n",
       "44                265.3                 86               11.94   \n",
       "49                 70.6                 79                3.18   \n",
       "54                203.9                127                9.18   \n",
       "\n",
       "    Total intl minutes  Total intl calls  Total intl charge  \\\n",
       "9                 11.2                 5               3.02   \n",
       "26                 9.5                 3               2.57   \n",
       "44                 3.5                 3               0.95   \n",
       "49                11.0                 3               2.97   \n",
       "54                 9.7                 3               2.62   \n",
       "\n",
       "    Customer service calls  Churn  \n",
       "9                        0      0  \n",
       "26                       0      0  \n",
       "44                       1      0  \n",
       "49                       1      0  \n",
       "54                       5      1  \n",
       "\n",
       "[5 rows x 21 columns]"
      ],
      "text/html": "<div>\n<style scoped>\n    .dataframe tbody tr th:only-of-type {\n        vertical-align: middle;\n    }\n\n    .dataframe tbody tr th {\n        vertical-align: top;\n    }\n\n    .dataframe thead th {\n        text-align: right;\n    }\n</style>\n<table border=\"1\" class=\"dataframe\">\n  <thead>\n    <tr style=\"text-align: right;\">\n      <th></th>\n      <th>State</th>\n      <th>Account length</th>\n      <th>Area code</th>\n      <th>Phone number</th>\n      <th>International plan</th>\n      <th>Voice mail plan</th>\n      <th>Number vmail messages</th>\n      <th>Total day minutes</th>\n      <th>Total day calls</th>\n      <th>Total day charge</th>\n      <th>...</th>\n      <th>Total eve calls</th>\n      <th>Total eve charge</th>\n      <th>Total night minutes</th>\n      <th>Total night calls</th>\n      <th>Total night charge</th>\n      <th>Total intl minutes</th>\n      <th>Total intl calls</th>\n      <th>Total intl charge</th>\n      <th>Customer service calls</th>\n      <th>Churn</th>\n    </tr>\n  </thead>\n  <tbody>\n    <tr>\n      <th>9</th>\n      <td>WV</td>\n      <td>141</td>\n      <td>415</td>\n      <td>330-8173</td>\n      <td>yes</td>\n      <td>yes</td>\n      <td>37</td>\n      <td>258.6</td>\n      <td>84</td>\n      <td>43.96</td>\n      <td>...</td>\n      <td>111</td>\n      <td>18.87</td>\n      <td>326.4</td>\n      <td>97</td>\n      <td>14.69</td>\n      <td>11.2</td>\n      <td>5</td>\n      <td>3.02</td>\n      <td>0</td>\n      <td>0</td>\n    </tr>\n    <tr>\n      <th>26</th>\n      <td>WY</td>\n      <td>57</td>\n      <td>408</td>\n      <td>357-3817</td>\n      <td>no</td>\n      <td>yes</td>\n      <td>39</td>\n      <td>213.0</td>\n      <td>115</td>\n      <td>36.21</td>\n      <td>...</td>\n      <td>112</td>\n      <td>16.24</td>\n      <td>182.7</td>\n      <td>115</td>\n      <td>8.22</td>\n      <td>9.5</td>\n      <td>3</td>\n      <td>2.57</td>\n      <td>0</td>\n      <td>0</td>\n    </tr>\n    <tr>\n      <th>44</th>\n      <td>WI</td>\n      <td>64</td>\n      <td>510</td>\n      <td>352-1237</td>\n      <td>no</td>\n      <td>no</td>\n      <td>0</td>\n      <td>154.0</td>\n      <td>67</td>\n      <td>26.18</td>\n      <td>...</td>\n      <td>118</td>\n      <td>19.19</td>\n      <td>265.3</td>\n      <td>86</td>\n      <td>11.94</td>\n      <td>3.5</td>\n      <td>3</td>\n      <td>0.95</td>\n      <td>1</td>\n      <td>0</td>\n    </tr>\n    <tr>\n      <th>49</th>\n      <td>WY</td>\n      <td>97</td>\n      <td>415</td>\n      <td>405-7146</td>\n      <td>no</td>\n      <td>yes</td>\n      <td>24</td>\n      <td>133.2</td>\n      <td>135</td>\n      <td>22.64</td>\n      <td>...</td>\n      <td>58</td>\n      <td>18.46</td>\n      <td>70.6</td>\n      <td>79</td>\n      <td>3.18</td>\n      <td>11.0</td>\n      <td>3</td>\n      <td>2.97</td>\n      <td>1</td>\n      <td>0</td>\n    </tr>\n    <tr>\n      <th>54</th>\n      <td>WY</td>\n      <td>87</td>\n      <td>415</td>\n      <td>353-3759</td>\n      <td>no</td>\n      <td>no</td>\n      <td>0</td>\n      <td>151.0</td>\n      <td>83</td>\n      <td>25.67</td>\n      <td>...</td>\n      <td>116</td>\n      <td>18.67</td>\n      <td>203.9</td>\n      <td>127</td>\n      <td>9.18</td>\n      <td>9.7</td>\n      <td>3</td>\n      <td>2.62</td>\n      <td>5</td>\n      <td>1</td>\n    </tr>\n  </tbody>\n</table>\n<p>5 rows × 21 columns</p>\n</div>"
     },
     "metadata": {},
     "execution_count": 56
    }
   ],
   "source": [
    "df[df[\"State\"].apply(lambda state: state[0] == \"W\")].head()"
   ]
  },
  {
   "cell_type": "markdown",
   "id": "collect-peoples",
   "metadata": {
    "_uuid": "8189ed0376dd712ccd2357081e224087f7d3d0aa",
    "papermill": {
     "duration": 0.056217,
     "end_time": "2021-05-07T08:36:04.033554",
     "exception": false,
     "start_time": "2021-05-07T08:36:03.977337",
     "status": "completed"
    },
    "tags": []
   },
   "source": [
    "The `map` method can be used to **replace values in a column** by passing a dictionary of the form `{old_value: new_value}` as its argument:"
   ]
  },
  {
   "cell_type": "code",
   "execution_count": 57,
   "id": "caring-service",
   "metadata": {
    "_uuid": "c01e23976470fd6efc3604e4d755e93ac11c3eac",
    "execution": {
     "iopub.execute_input": "2021-05-07T08:36:04.149032Z",
     "iopub.status.busy": "2021-05-07T08:36:04.148082Z",
     "iopub.status.idle": "2021-05-07T08:36:04.171389Z",
     "shell.execute_reply": "2021-05-07T08:36:04.172077Z"
    },
    "papermill": {
     "duration": 0.082074,
     "end_time": "2021-05-07T08:36:04.172250",
     "exception": false,
     "start_time": "2021-05-07T08:36:04.090176",
     "status": "completed"
    },
    "tags": []
   },
   "outputs": [
    {
     "output_type": "execute_result",
     "data": {
      "text/plain": [
       "  State  Account length  Area code Phone number  International plan  \\\n",
       "0    KS             128        415     382-4657               False   \n",
       "1    OH             107        415     371-7191               False   \n",
       "2    NJ             137        415     358-1921               False   \n",
       "3    OH              84        408     375-9999                True   \n",
       "4    OK              75        415     330-6626                True   \n",
       "\n",
       "  Voice mail plan  Number vmail messages  Total day minutes  Total day calls  \\\n",
       "0             yes                     25              265.1              110   \n",
       "1             yes                     26              161.6              123   \n",
       "2              no                      0              243.4              114   \n",
       "3              no                      0              299.4               71   \n",
       "4              no                      0              166.7              113   \n",
       "\n",
       "   Total day charge  ...  Total eve calls  Total eve charge  \\\n",
       "0             45.07  ...               99             16.78   \n",
       "1             27.47  ...              103             16.62   \n",
       "2             41.38  ...              110             10.30   \n",
       "3             50.90  ...               88              5.26   \n",
       "4             28.34  ...              122             12.61   \n",
       "\n",
       "   Total night minutes  Total night calls  Total night charge  \\\n",
       "0                244.7                 91               11.01   \n",
       "1                254.4                103               11.45   \n",
       "2                162.6                104                7.32   \n",
       "3                196.9                 89                8.86   \n",
       "4                186.9                121                8.41   \n",
       "\n",
       "   Total intl minutes  Total intl calls  Total intl charge  \\\n",
       "0                10.0                 3               2.70   \n",
       "1                13.7                 3               3.70   \n",
       "2                12.2                 5               3.29   \n",
       "3                 6.6                 7               1.78   \n",
       "4                10.1                 3               2.73   \n",
       "\n",
       "   Customer service calls  Churn  \n",
       "0                       1      0  \n",
       "1                       1      0  \n",
       "2                       0      0  \n",
       "3                       2      0  \n",
       "4                       3      0  \n",
       "\n",
       "[5 rows x 21 columns]"
      ],
      "text/html": "<div>\n<style scoped>\n    .dataframe tbody tr th:only-of-type {\n        vertical-align: middle;\n    }\n\n    .dataframe tbody tr th {\n        vertical-align: top;\n    }\n\n    .dataframe thead th {\n        text-align: right;\n    }\n</style>\n<table border=\"1\" class=\"dataframe\">\n  <thead>\n    <tr style=\"text-align: right;\">\n      <th></th>\n      <th>State</th>\n      <th>Account length</th>\n      <th>Area code</th>\n      <th>Phone number</th>\n      <th>International plan</th>\n      <th>Voice mail plan</th>\n      <th>Number vmail messages</th>\n      <th>Total day minutes</th>\n      <th>Total day calls</th>\n      <th>Total day charge</th>\n      <th>...</th>\n      <th>Total eve calls</th>\n      <th>Total eve charge</th>\n      <th>Total night minutes</th>\n      <th>Total night calls</th>\n      <th>Total night charge</th>\n      <th>Total intl minutes</th>\n      <th>Total intl calls</th>\n      <th>Total intl charge</th>\n      <th>Customer service calls</th>\n      <th>Churn</th>\n    </tr>\n  </thead>\n  <tbody>\n    <tr>\n      <th>0</th>\n      <td>KS</td>\n      <td>128</td>\n      <td>415</td>\n      <td>382-4657</td>\n      <td>False</td>\n      <td>yes</td>\n      <td>25</td>\n      <td>265.1</td>\n      <td>110</td>\n      <td>45.07</td>\n      <td>...</td>\n      <td>99</td>\n      <td>16.78</td>\n      <td>244.7</td>\n      <td>91</td>\n      <td>11.01</td>\n      <td>10.0</td>\n      <td>3</td>\n      <td>2.70</td>\n      <td>1</td>\n      <td>0</td>\n    </tr>\n    <tr>\n      <th>1</th>\n      <td>OH</td>\n      <td>107</td>\n      <td>415</td>\n      <td>371-7191</td>\n      <td>False</td>\n      <td>yes</td>\n      <td>26</td>\n      <td>161.6</td>\n      <td>123</td>\n      <td>27.47</td>\n      <td>...</td>\n      <td>103</td>\n      <td>16.62</td>\n      <td>254.4</td>\n      <td>103</td>\n      <td>11.45</td>\n      <td>13.7</td>\n      <td>3</td>\n      <td>3.70</td>\n      <td>1</td>\n      <td>0</td>\n    </tr>\n    <tr>\n      <th>2</th>\n      <td>NJ</td>\n      <td>137</td>\n      <td>415</td>\n      <td>358-1921</td>\n      <td>False</td>\n      <td>no</td>\n      <td>0</td>\n      <td>243.4</td>\n      <td>114</td>\n      <td>41.38</td>\n      <td>...</td>\n      <td>110</td>\n      <td>10.30</td>\n      <td>162.6</td>\n      <td>104</td>\n      <td>7.32</td>\n      <td>12.2</td>\n      <td>5</td>\n      <td>3.29</td>\n      <td>0</td>\n      <td>0</td>\n    </tr>\n    <tr>\n      <th>3</th>\n      <td>OH</td>\n      <td>84</td>\n      <td>408</td>\n      <td>375-9999</td>\n      <td>True</td>\n      <td>no</td>\n      <td>0</td>\n      <td>299.4</td>\n      <td>71</td>\n      <td>50.90</td>\n      <td>...</td>\n      <td>88</td>\n      <td>5.26</td>\n      <td>196.9</td>\n      <td>89</td>\n      <td>8.86</td>\n      <td>6.6</td>\n      <td>7</td>\n      <td>1.78</td>\n      <td>2</td>\n      <td>0</td>\n    </tr>\n    <tr>\n      <th>4</th>\n      <td>OK</td>\n      <td>75</td>\n      <td>415</td>\n      <td>330-6626</td>\n      <td>True</td>\n      <td>no</td>\n      <td>0</td>\n      <td>166.7</td>\n      <td>113</td>\n      <td>28.34</td>\n      <td>...</td>\n      <td>122</td>\n      <td>12.61</td>\n      <td>186.9</td>\n      <td>121</td>\n      <td>8.41</td>\n      <td>10.1</td>\n      <td>3</td>\n      <td>2.73</td>\n      <td>3</td>\n      <td>0</td>\n    </tr>\n  </tbody>\n</table>\n<p>5 rows × 21 columns</p>\n</div>"
     },
     "metadata": {},
     "execution_count": 57
    }
   ],
   "source": [
    "d = {\"no\": False, \"yes\": True}\n",
    "df[\"International plan\"] = df[\"International plan\"].map(d)\n",
    "df.head()"
   ]
  },
  {
   "cell_type": "markdown",
   "id": "ahead-recorder",
   "metadata": {
    "_uuid": "c4a2e2296e26b94ef6e8f0f457b13c42a5559568",
    "papermill": {
     "duration": 0.057465,
     "end_time": "2021-05-07T08:36:04.286140",
     "exception": false,
     "start_time": "2021-05-07T08:36:04.228675",
     "status": "completed"
    },
    "tags": []
   },
   "source": [
    "The same thing can be done with the `replace` method:"
   ]
  },
  {
   "cell_type": "code",
   "execution_count": 58,
   "id": "actual-disclaimer",
   "metadata": {
    "_uuid": "624736c649a9875bfee158df92238c6348f5a6b0",
    "execution": {
     "iopub.execute_input": "2021-05-07T08:36:04.402139Z",
     "iopub.status.busy": "2021-05-07T08:36:04.401179Z",
     "iopub.status.idle": "2021-05-07T08:36:04.424799Z",
     "shell.execute_reply": "2021-05-07T08:36:04.425258Z"
    },
    "papermill": {
     "duration": 0.083412,
     "end_time": "2021-05-07T08:36:04.425436",
     "exception": false,
     "start_time": "2021-05-07T08:36:04.342024",
     "status": "completed"
    },
    "tags": []
   },
   "outputs": [
    {
     "output_type": "execute_result",
     "data": {
      "text/plain": [
       "  State  Account length  Area code Phone number  International plan  \\\n",
       "0    KS             128        415     382-4657               False   \n",
       "1    OH             107        415     371-7191               False   \n",
       "2    NJ             137        415     358-1921               False   \n",
       "3    OH              84        408     375-9999                True   \n",
       "4    OK              75        415     330-6626                True   \n",
       "\n",
       "   Voice mail plan  Number vmail messages  Total day minutes  Total day calls  \\\n",
       "0             True                     25              265.1              110   \n",
       "1             True                     26              161.6              123   \n",
       "2            False                      0              243.4              114   \n",
       "3            False                      0              299.4               71   \n",
       "4            False                      0              166.7              113   \n",
       "\n",
       "   Total day charge  ...  Total eve calls  Total eve charge  \\\n",
       "0             45.07  ...               99             16.78   \n",
       "1             27.47  ...              103             16.62   \n",
       "2             41.38  ...              110             10.30   \n",
       "3             50.90  ...               88              5.26   \n",
       "4             28.34  ...              122             12.61   \n",
       "\n",
       "   Total night minutes  Total night calls  Total night charge  \\\n",
       "0                244.7                 91               11.01   \n",
       "1                254.4                103               11.45   \n",
       "2                162.6                104                7.32   \n",
       "3                196.9                 89                8.86   \n",
       "4                186.9                121                8.41   \n",
       "\n",
       "   Total intl minutes  Total intl calls  Total intl charge  \\\n",
       "0                10.0                 3               2.70   \n",
       "1                13.7                 3               3.70   \n",
       "2                12.2                 5               3.29   \n",
       "3                 6.6                 7               1.78   \n",
       "4                10.1                 3               2.73   \n",
       "\n",
       "   Customer service calls  Churn  \n",
       "0                       1      0  \n",
       "1                       1      0  \n",
       "2                       0      0  \n",
       "3                       2      0  \n",
       "4                       3      0  \n",
       "\n",
       "[5 rows x 21 columns]"
      ],
      "text/html": "<div>\n<style scoped>\n    .dataframe tbody tr th:only-of-type {\n        vertical-align: middle;\n    }\n\n    .dataframe tbody tr th {\n        vertical-align: top;\n    }\n\n    .dataframe thead th {\n        text-align: right;\n    }\n</style>\n<table border=\"1\" class=\"dataframe\">\n  <thead>\n    <tr style=\"text-align: right;\">\n      <th></th>\n      <th>State</th>\n      <th>Account length</th>\n      <th>Area code</th>\n      <th>Phone number</th>\n      <th>International plan</th>\n      <th>Voice mail plan</th>\n      <th>Number vmail messages</th>\n      <th>Total day minutes</th>\n      <th>Total day calls</th>\n      <th>Total day charge</th>\n      <th>...</th>\n      <th>Total eve calls</th>\n      <th>Total eve charge</th>\n      <th>Total night minutes</th>\n      <th>Total night calls</th>\n      <th>Total night charge</th>\n      <th>Total intl minutes</th>\n      <th>Total intl calls</th>\n      <th>Total intl charge</th>\n      <th>Customer service calls</th>\n      <th>Churn</th>\n    </tr>\n  </thead>\n  <tbody>\n    <tr>\n      <th>0</th>\n      <td>KS</td>\n      <td>128</td>\n      <td>415</td>\n      <td>382-4657</td>\n      <td>False</td>\n      <td>True</td>\n      <td>25</td>\n      <td>265.1</td>\n      <td>110</td>\n      <td>45.07</td>\n      <td>...</td>\n      <td>99</td>\n      <td>16.78</td>\n      <td>244.7</td>\n      <td>91</td>\n      <td>11.01</td>\n      <td>10.0</td>\n      <td>3</td>\n      <td>2.70</td>\n      <td>1</td>\n      <td>0</td>\n    </tr>\n    <tr>\n      <th>1</th>\n      <td>OH</td>\n      <td>107</td>\n      <td>415</td>\n      <td>371-7191</td>\n      <td>False</td>\n      <td>True</td>\n      <td>26</td>\n      <td>161.6</td>\n      <td>123</td>\n      <td>27.47</td>\n      <td>...</td>\n      <td>103</td>\n      <td>16.62</td>\n      <td>254.4</td>\n      <td>103</td>\n      <td>11.45</td>\n      <td>13.7</td>\n      <td>3</td>\n      <td>3.70</td>\n      <td>1</td>\n      <td>0</td>\n    </tr>\n    <tr>\n      <th>2</th>\n      <td>NJ</td>\n      <td>137</td>\n      <td>415</td>\n      <td>358-1921</td>\n      <td>False</td>\n      <td>False</td>\n      <td>0</td>\n      <td>243.4</td>\n      <td>114</td>\n      <td>41.38</td>\n      <td>...</td>\n      <td>110</td>\n      <td>10.30</td>\n      <td>162.6</td>\n      <td>104</td>\n      <td>7.32</td>\n      <td>12.2</td>\n      <td>5</td>\n      <td>3.29</td>\n      <td>0</td>\n      <td>0</td>\n    </tr>\n    <tr>\n      <th>3</th>\n      <td>OH</td>\n      <td>84</td>\n      <td>408</td>\n      <td>375-9999</td>\n      <td>True</td>\n      <td>False</td>\n      <td>0</td>\n      <td>299.4</td>\n      <td>71</td>\n      <td>50.90</td>\n      <td>...</td>\n      <td>88</td>\n      <td>5.26</td>\n      <td>196.9</td>\n      <td>89</td>\n      <td>8.86</td>\n      <td>6.6</td>\n      <td>7</td>\n      <td>1.78</td>\n      <td>2</td>\n      <td>0</td>\n    </tr>\n    <tr>\n      <th>4</th>\n      <td>OK</td>\n      <td>75</td>\n      <td>415</td>\n      <td>330-6626</td>\n      <td>True</td>\n      <td>False</td>\n      <td>0</td>\n      <td>166.7</td>\n      <td>113</td>\n      <td>28.34</td>\n      <td>...</td>\n      <td>122</td>\n      <td>12.61</td>\n      <td>186.9</td>\n      <td>121</td>\n      <td>8.41</td>\n      <td>10.1</td>\n      <td>3</td>\n      <td>2.73</td>\n      <td>3</td>\n      <td>0</td>\n    </tr>\n  </tbody>\n</table>\n<p>5 rows × 21 columns</p>\n</div>"
     },
     "metadata": {},
     "execution_count": 58
    }
   ],
   "source": [
    "df = df.replace({\"Voice mail plan\": d})\n",
    "df.head()"
   ]
  },
  {
   "cell_type": "markdown",
   "id": "optimum-tractor",
   "metadata": {
    "_uuid": "22f7916fb05500116fdd6e52b86bf7949912bd9c",
    "papermill": {
     "duration": 0.056381,
     "end_time": "2021-05-07T08:36:04.538571",
     "exception": false,
     "start_time": "2021-05-07T08:36:04.482190",
     "status": "completed"
    },
    "tags": []
   },
   "source": [
    "\n",
    "### Grouping\n",
    "\n",
    "In general, grouping data in Pandas works as follows:\n"
   ]
  },
  {
   "cell_type": "markdown",
   "id": "tired-burton",
   "metadata": {
    "_uuid": "850ace3defaca6b72ef976c86a5020c4ed8f65b3",
    "papermill": {
     "duration": 0.056153,
     "end_time": "2021-05-07T08:36:04.651341",
     "exception": false,
     "start_time": "2021-05-07T08:36:04.595188",
     "status": "completed"
    },
    "tags": []
   },
   "source": [
    "\n",
    "```python\n",
    "df.groupby(by=grouping_columns)[columns_to_show].function()\n",
    "```"
   ]
  },
  {
   "cell_type": "markdown",
   "id": "compact-affiliation",
   "metadata": {
    "_uuid": "1ac45d322f049449259ff21197e9977e220e82d1",
    "papermill": {
     "duration": 0.056121,
     "end_time": "2021-05-07T08:36:04.764028",
     "exception": false,
     "start_time": "2021-05-07T08:36:04.707907",
     "status": "completed"
    },
    "tags": []
   },
   "source": [
    "\n",
    "1. First, the `groupby` method divides the `grouping_columns` by their values. They become a new index in the resulting dataframe.\n",
    "2. Then, columns of interest are selected (`columns_to_show`). If `columns_to_show` is not included, all non groupby clauses will be included.\n",
    "3. Finally, one or several functions are applied to the obtained groups per selected columns.\n",
    "\n",
    "Here is an example where we group the data according to the values of the `Churn` variable and display statistics of three columns in each group:"
   ]
  },
  {
   "cell_type": "code",
   "execution_count": 59,
   "id": "nonprofit-campus",
   "metadata": {
    "_uuid": "180e6b3d26c8adc52e46d8ab82dad34f9a49e234",
    "execution": {
     "iopub.execute_input": "2021-05-07T08:36:04.882088Z",
     "iopub.status.busy": "2021-05-07T08:36:04.881110Z",
     "iopub.status.idle": "2021-05-07T08:36:04.931589Z",
     "shell.execute_reply": "2021-05-07T08:36:04.932105Z"
    },
    "papermill": {
     "duration": 0.111713,
     "end_time": "2021-05-07T08:36:04.932284",
     "exception": false,
     "start_time": "2021-05-07T08:36:04.820571",
     "status": "completed"
    },
    "tags": []
   },
   "outputs": [
    {
     "output_type": "execute_result",
     "data": {
      "text/plain": [
       "      Total day minutes                                   Total eve minutes  \\\n",
       "                  count    mean    std  min    50%    max             count   \n",
       "Churn                                                                         \n",
       "0                2850.0  175.18  50.18  0.0  177.2  315.6            2850.0   \n",
       "1                 483.0  206.91  69.00  0.0  217.6  350.8             483.0   \n",
       "\n",
       "                                         Total night minutes                 \\\n",
       "         mean    std   min    50%    max               count    mean    std   \n",
       "Churn                                                                         \n",
       "0      199.04  50.29   0.0  199.6  361.8              2850.0  200.13  51.11   \n",
       "1      212.41  51.73  70.9  211.3  363.7               483.0  205.23  47.13   \n",
       "\n",
       "                            \n",
       "        min     50%    max  \n",
       "Churn                       \n",
       "0      23.2  200.25  395.0  \n",
       "1      47.4  204.80  354.9  "
      ],
      "text/html": "<div>\n<style scoped>\n    .dataframe tbody tr th:only-of-type {\n        vertical-align: middle;\n    }\n\n    .dataframe tbody tr th {\n        vertical-align: top;\n    }\n\n    .dataframe thead tr th {\n        text-align: left;\n    }\n\n    .dataframe thead tr:last-of-type th {\n        text-align: right;\n    }\n</style>\n<table border=\"1\" class=\"dataframe\">\n  <thead>\n    <tr>\n      <th></th>\n      <th colspan=\"6\" halign=\"left\">Total day minutes</th>\n      <th colspan=\"6\" halign=\"left\">Total eve minutes</th>\n      <th colspan=\"6\" halign=\"left\">Total night minutes</th>\n    </tr>\n    <tr>\n      <th></th>\n      <th>count</th>\n      <th>mean</th>\n      <th>std</th>\n      <th>min</th>\n      <th>50%</th>\n      <th>max</th>\n      <th>count</th>\n      <th>mean</th>\n      <th>std</th>\n      <th>min</th>\n      <th>50%</th>\n      <th>max</th>\n      <th>count</th>\n      <th>mean</th>\n      <th>std</th>\n      <th>min</th>\n      <th>50%</th>\n      <th>max</th>\n    </tr>\n    <tr>\n      <th>Churn</th>\n      <th></th>\n      <th></th>\n      <th></th>\n      <th></th>\n      <th></th>\n      <th></th>\n      <th></th>\n      <th></th>\n      <th></th>\n      <th></th>\n      <th></th>\n      <th></th>\n      <th></th>\n      <th></th>\n      <th></th>\n      <th></th>\n      <th></th>\n      <th></th>\n    </tr>\n  </thead>\n  <tbody>\n    <tr>\n      <th>0</th>\n      <td>2850.0</td>\n      <td>175.18</td>\n      <td>50.18</td>\n      <td>0.0</td>\n      <td>177.2</td>\n      <td>315.6</td>\n      <td>2850.0</td>\n      <td>199.04</td>\n      <td>50.29</td>\n      <td>0.0</td>\n      <td>199.6</td>\n      <td>361.8</td>\n      <td>2850.0</td>\n      <td>200.13</td>\n      <td>51.11</td>\n      <td>23.2</td>\n      <td>200.25</td>\n      <td>395.0</td>\n    </tr>\n    <tr>\n      <th>1</th>\n      <td>483.0</td>\n      <td>206.91</td>\n      <td>69.00</td>\n      <td>0.0</td>\n      <td>217.6</td>\n      <td>350.8</td>\n      <td>483.0</td>\n      <td>212.41</td>\n      <td>51.73</td>\n      <td>70.9</td>\n      <td>211.3</td>\n      <td>363.7</td>\n      <td>483.0</td>\n      <td>205.23</td>\n      <td>47.13</td>\n      <td>47.4</td>\n      <td>204.80</td>\n      <td>354.9</td>\n    </tr>\n  </tbody>\n</table>\n</div>"
     },
     "metadata": {},
     "execution_count": 59
    }
   ],
   "source": [
    "columns_to_show = [\"Total day minutes\", \"Total eve minutes\", \"Total night minutes\"]\n",
    "\n",
    "df.groupby([\"Churn\"])[columns_to_show].describe(percentiles=[])"
   ]
  },
  {
   "cell_type": "markdown",
   "id": "monthly-identifier",
   "metadata": {
    "_uuid": "7fc26768e62869d3ac4f1c0c379356a642240c7f",
    "papermill": {
     "duration": 0.058595,
     "end_time": "2021-05-07T08:36:05.048399",
     "exception": false,
     "start_time": "2021-05-07T08:36:04.989804",
     "status": "completed"
    },
    "tags": []
   },
   "source": [
    "Let’s do the same thing, but slightly differently by passing a list of functions to `agg()`:"
   ]
  },
  {
   "cell_type": "code",
   "execution_count": 60,
   "id": "searching-meditation",
   "metadata": {
    "_uuid": "6e87a8f4b10035128312771fc7e802f1bb660b4c",
    "execution": {
     "iopub.execute_input": "2021-05-07T08:36:05.176370Z",
     "iopub.status.busy": "2021-05-07T08:36:05.173015Z",
     "iopub.status.idle": "2021-05-07T08:36:05.205963Z",
     "shell.execute_reply": "2021-05-07T08:36:05.205196Z"
    },
    "papermill": {
     "duration": 0.099211,
     "end_time": "2021-05-07T08:36:05.206143",
     "exception": false,
     "start_time": "2021-05-07T08:36:05.106932",
     "status": "completed"
    },
    "tags": []
   },
   "outputs": [
    {
     "output_type": "execute_result",
     "data": {
      "text/plain": [
       "      Total day minutes                    Total eve minutes               \\\n",
       "                   mean    std amin   amax              mean    std  amin   \n",
       "Churn                                                                       \n",
       "0                175.18  50.18  0.0  315.6            199.04  50.29   0.0   \n",
       "1                206.91  69.00  0.0  350.8            212.41  51.73  70.9   \n",
       "\n",
       "             Total night minutes                      \n",
       "        amax                mean    std  amin   amax  \n",
       "Churn                                                 \n",
       "0      361.8              200.13  51.11  23.2  395.0  \n",
       "1      363.7              205.23  47.13  47.4  354.9  "
      ],
      "text/html": "<div>\n<style scoped>\n    .dataframe tbody tr th:only-of-type {\n        vertical-align: middle;\n    }\n\n    .dataframe tbody tr th {\n        vertical-align: top;\n    }\n\n    .dataframe thead tr th {\n        text-align: left;\n    }\n\n    .dataframe thead tr:last-of-type th {\n        text-align: right;\n    }\n</style>\n<table border=\"1\" class=\"dataframe\">\n  <thead>\n    <tr>\n      <th></th>\n      <th colspan=\"4\" halign=\"left\">Total day minutes</th>\n      <th colspan=\"4\" halign=\"left\">Total eve minutes</th>\n      <th colspan=\"4\" halign=\"left\">Total night minutes</th>\n    </tr>\n    <tr>\n      <th></th>\n      <th>mean</th>\n      <th>std</th>\n      <th>amin</th>\n      <th>amax</th>\n      <th>mean</th>\n      <th>std</th>\n      <th>amin</th>\n      <th>amax</th>\n      <th>mean</th>\n      <th>std</th>\n      <th>amin</th>\n      <th>amax</th>\n    </tr>\n    <tr>\n      <th>Churn</th>\n      <th></th>\n      <th></th>\n      <th></th>\n      <th></th>\n      <th></th>\n      <th></th>\n      <th></th>\n      <th></th>\n      <th></th>\n      <th></th>\n      <th></th>\n      <th></th>\n    </tr>\n  </thead>\n  <tbody>\n    <tr>\n      <th>0</th>\n      <td>175.18</td>\n      <td>50.18</td>\n      <td>0.0</td>\n      <td>315.6</td>\n      <td>199.04</td>\n      <td>50.29</td>\n      <td>0.0</td>\n      <td>361.8</td>\n      <td>200.13</td>\n      <td>51.11</td>\n      <td>23.2</td>\n      <td>395.0</td>\n    </tr>\n    <tr>\n      <th>1</th>\n      <td>206.91</td>\n      <td>69.00</td>\n      <td>0.0</td>\n      <td>350.8</td>\n      <td>212.41</td>\n      <td>51.73</td>\n      <td>70.9</td>\n      <td>363.7</td>\n      <td>205.23</td>\n      <td>47.13</td>\n      <td>47.4</td>\n      <td>354.9</td>\n    </tr>\n  </tbody>\n</table>\n</div>"
     },
     "metadata": {},
     "execution_count": 60
    }
   ],
   "source": [
    "columns_to_show = [\"Total day minutes\", \"Total eve minutes\", \"Total night minutes\"]\n",
    "\n",
    "df.groupby([\"Churn\"])[columns_to_show].agg([np.mean, np.std, np.min, np.max])"
   ]
  },
  {
   "cell_type": "markdown",
   "id": "saved-evans",
   "metadata": {
    "_uuid": "221a34086734d3b52deccfda2db2edfb6f1b92a5",
    "papermill": {
     "duration": 0.057656,
     "end_time": "2021-05-07T08:36:05.322566",
     "exception": false,
     "start_time": "2021-05-07T08:36:05.264910",
     "status": "completed"
    },
    "tags": []
   },
   "source": [
    "\n",
    "### Summary tables\n",
    "\n",
    "Suppose we want to see how the observations in our sample are distributed in the context of two variables - `Churn` and `International plan`. To do so, we can build a **contingency table** using the `crosstab` method:\n",
    "\n"
   ]
  },
  {
   "cell_type": "code",
   "execution_count": 61,
   "id": "grave-angola",
   "metadata": {
    "_uuid": "ebcff1fdb2e6805fa186a0f5c27b46655222e9c2",
    "execution": {
     "iopub.execute_input": "2021-05-07T08:36:05.452069Z",
     "iopub.status.busy": "2021-05-07T08:36:05.451388Z",
     "iopub.status.idle": "2021-05-07T08:36:05.469817Z",
     "shell.execute_reply": "2021-05-07T08:36:05.470333Z"
    },
    "papermill": {
     "duration": 0.087785,
     "end_time": "2021-05-07T08:36:05.470499",
     "exception": false,
     "start_time": "2021-05-07T08:36:05.382714",
     "status": "completed"
    },
    "tags": []
   },
   "outputs": [
    {
     "output_type": "execute_result",
     "data": {
      "text/plain": [
       "International plan  False  True \n",
       "Churn                           \n",
       "0                    2664    186\n",
       "1                     346    137"
      ],
      "text/html": "<div>\n<style scoped>\n    .dataframe tbody tr th:only-of-type {\n        vertical-align: middle;\n    }\n\n    .dataframe tbody tr th {\n        vertical-align: top;\n    }\n\n    .dataframe thead th {\n        text-align: right;\n    }\n</style>\n<table border=\"1\" class=\"dataframe\">\n  <thead>\n    <tr style=\"text-align: right;\">\n      <th>International plan</th>\n      <th>False</th>\n      <th>True</th>\n    </tr>\n    <tr>\n      <th>Churn</th>\n      <th></th>\n      <th></th>\n    </tr>\n  </thead>\n  <tbody>\n    <tr>\n      <th>0</th>\n      <td>2664</td>\n      <td>186</td>\n    </tr>\n    <tr>\n      <th>1</th>\n      <td>346</td>\n      <td>137</td>\n    </tr>\n  </tbody>\n</table>\n</div>"
     },
     "metadata": {},
     "execution_count": 61
    }
   ],
   "source": [
    "pd.crosstab(df[\"Churn\"], df[\"International plan\"])"
   ]
  },
  {
   "cell_type": "code",
   "execution_count": 62,
   "id": "divine-chick",
   "metadata": {
    "_uuid": "b2228aa42dd23fb1c70525f4ab105c5e2ee6196d",
    "execution": {
     "iopub.execute_input": "2021-05-07T08:36:05.595002Z",
     "iopub.status.busy": "2021-05-07T08:36:05.594340Z",
     "iopub.status.idle": "2021-05-07T08:36:05.615449Z",
     "shell.execute_reply": "2021-05-07T08:36:05.614728Z"
    },
    "papermill": {
     "duration": 0.086858,
     "end_time": "2021-05-07T08:36:05.615594",
     "exception": false,
     "start_time": "2021-05-07T08:36:05.528736",
     "status": "completed"
    },
    "scrolled": true,
    "tags": []
   },
   "outputs": [
    {
     "output_type": "execute_result",
     "data": {
      "text/plain": [
       "Voice mail plan  False  True \n",
       "Churn                        \n",
       "0                 0.60   0.25\n",
       "1                 0.12   0.02"
      ],
      "text/html": "<div>\n<style scoped>\n    .dataframe tbody tr th:only-of-type {\n        vertical-align: middle;\n    }\n\n    .dataframe tbody tr th {\n        vertical-align: top;\n    }\n\n    .dataframe thead th {\n        text-align: right;\n    }\n</style>\n<table border=\"1\" class=\"dataframe\">\n  <thead>\n    <tr style=\"text-align: right;\">\n      <th>Voice mail plan</th>\n      <th>False</th>\n      <th>True</th>\n    </tr>\n    <tr>\n      <th>Churn</th>\n      <th></th>\n      <th></th>\n    </tr>\n  </thead>\n  <tbody>\n    <tr>\n      <th>0</th>\n      <td>0.60</td>\n      <td>0.25</td>\n    </tr>\n    <tr>\n      <th>1</th>\n      <td>0.12</td>\n      <td>0.02</td>\n    </tr>\n  </tbody>\n</table>\n</div>"
     },
     "metadata": {},
     "execution_count": 62
    }
   ],
   "source": [
    "pd.crosstab(df[\"Churn\"], df[\"Voice mail plan\"], normalize=True)"
   ]
  },
  {
   "cell_type": "markdown",
   "id": "unlimited-copying",
   "metadata": {
    "_uuid": "e7f0851cc14ce07d75871d1305b31e839a253b72",
    "papermill": {
     "duration": 0.058903,
     "end_time": "2021-05-07T08:36:05.734702",
     "exception": false,
     "start_time": "2021-05-07T08:36:05.675799",
     "status": "completed"
    },
    "tags": []
   },
   "source": [
    "We can see that most of the users are loyal and do not use additional services (International Plan/Voice mail).\n",
    "\n",
    "This will resemble **pivot tables** to those familiar with Excel. And, of course, pivot tables are implemented in Pandas: the `pivot_table` method takes the following parameters:\n",
    "\n",
    "* `values` – a list of variables to calculate statistics for,\n",
    "* `index` – a list of variables to group data by,\n",
    "* `aggfunc` – what statistics we need to calculate for groups, ex. sum, mean, maximum, minimum or something else.\n",
    "\n",
    "Let's take a look at the average number of day, evening, and night calls by area code:"
   ]
  },
  {
   "cell_type": "code",
   "execution_count": 63,
   "id": "simplified-secretariat",
   "metadata": {
    "_uuid": "81d2edd79f7c3e9a4b77e38ebf0fa27b39f5e7c5",
    "execution": {
     "iopub.execute_input": "2021-05-07T08:36:05.873266Z",
     "iopub.status.busy": "2021-05-07T08:36:05.860812Z",
     "iopub.status.idle": "2021-05-07T08:36:05.876984Z",
     "shell.execute_reply": "2021-05-07T08:36:05.877629Z"
    },
    "papermill": {
     "duration": 0.083993,
     "end_time": "2021-05-07T08:36:05.877810",
     "exception": false,
     "start_time": "2021-05-07T08:36:05.793817",
     "status": "completed"
    },
    "scrolled": true,
    "tags": []
   },
   "outputs": [
    {
     "output_type": "execute_result",
     "data": {
      "text/plain": [
       "           Total day calls  Total eve calls  Total night calls\n",
       "Area code                                                     \n",
       "408                 100.50            99.79              99.04\n",
       "415                 100.58           100.50             100.40\n",
       "510                 100.10            99.67             100.60"
      ],
      "text/html": "<div>\n<style scoped>\n    .dataframe tbody tr th:only-of-type {\n        vertical-align: middle;\n    }\n\n    .dataframe tbody tr th {\n        vertical-align: top;\n    }\n\n    .dataframe thead th {\n        text-align: right;\n    }\n</style>\n<table border=\"1\" class=\"dataframe\">\n  <thead>\n    <tr style=\"text-align: right;\">\n      <th></th>\n      <th>Total day calls</th>\n      <th>Total eve calls</th>\n      <th>Total night calls</th>\n    </tr>\n    <tr>\n      <th>Area code</th>\n      <th></th>\n      <th></th>\n      <th></th>\n    </tr>\n  </thead>\n  <tbody>\n    <tr>\n      <th>408</th>\n      <td>100.50</td>\n      <td>99.79</td>\n      <td>99.04</td>\n    </tr>\n    <tr>\n      <th>415</th>\n      <td>100.58</td>\n      <td>100.50</td>\n      <td>100.40</td>\n    </tr>\n    <tr>\n      <th>510</th>\n      <td>100.10</td>\n      <td>99.67</td>\n      <td>100.60</td>\n    </tr>\n  </tbody>\n</table>\n</div>"
     },
     "metadata": {},
     "execution_count": 63
    }
   ],
   "source": [
    "df.pivot_table(\n",
    "    [\"Total day calls\", \"Total eve calls\", \"Total night calls\"],\n",
    "    [\"Area code\"],\n",
    "    aggfunc=\"mean\",\n",
    ")"
   ]
  },
  {
   "cell_type": "markdown",
   "id": "lucky-census",
   "metadata": {
    "_uuid": "ea35f7ad664ff32785231dcae2292e9a66b28b90",
    "papermill": {
     "duration": 0.059374,
     "end_time": "2021-05-07T08:36:05.998407",
     "exception": false,
     "start_time": "2021-05-07T08:36:05.939033",
     "status": "completed"
    },
    "tags": []
   },
   "source": [
    "\n",
    "### DataFrame transformations\n",
    "\n",
    "Like many other things in Pandas, adding columns to a DataFrame is doable in many ways.\n",
    "\n",
    "For example, if we want to calculate the total number of calls for all users, let's create the `total_calls` Series and paste it into the DataFrame:\n",
    "\n"
   ]
  },
  {
   "cell_type": "code",
   "execution_count": 64,
   "id": "marine-hungarian",
   "metadata": {
    "_uuid": "9d1214ac2a3d0e7e0f3d265018985eacef2f25b3",
    "execution": {
     "iopub.execute_input": "2021-05-07T08:36:06.125614Z",
     "iopub.status.busy": "2021-05-07T08:36:06.124884Z",
     "iopub.status.idle": "2021-05-07T08:36:06.155006Z",
     "shell.execute_reply": "2021-05-07T08:36:06.155605Z"
    },
    "papermill": {
     "duration": 0.094713,
     "end_time": "2021-05-07T08:36:06.155784",
     "exception": false,
     "start_time": "2021-05-07T08:36:06.061071",
     "status": "completed"
    },
    "tags": []
   },
   "outputs": [
    {
     "output_type": "execute_result",
     "data": {
      "text/plain": [
       "  State  Account length  Area code Phone number  International plan  \\\n",
       "0    KS             128        415     382-4657               False   \n",
       "1    OH             107        415     371-7191               False   \n",
       "2    NJ             137        415     358-1921               False   \n",
       "3    OH              84        408     375-9999                True   \n",
       "4    OK              75        415     330-6626                True   \n",
       "\n",
       "   Voice mail plan  Number vmail messages  Total day minutes  Total day calls  \\\n",
       "0             True                     25              265.1              110   \n",
       "1             True                     26              161.6              123   \n",
       "2            False                      0              243.4              114   \n",
       "3            False                      0              299.4               71   \n",
       "4            False                      0              166.7              113   \n",
       "\n",
       "   Total day charge  ...  Total eve charge  Total night minutes  \\\n",
       "0             45.07  ...             16.78                244.7   \n",
       "1             27.47  ...             16.62                254.4   \n",
       "2             41.38  ...             10.30                162.6   \n",
       "3             50.90  ...              5.26                196.9   \n",
       "4             28.34  ...             12.61                186.9   \n",
       "\n",
       "   Total night calls  Total night charge  Total intl minutes  \\\n",
       "0                 91               11.01                10.0   \n",
       "1                103               11.45                13.7   \n",
       "2                104                7.32                12.2   \n",
       "3                 89                8.86                 6.6   \n",
       "4                121                8.41                10.1   \n",
       "\n",
       "   Total intl calls  Total intl charge  Customer service calls  Churn  \\\n",
       "0                 3               2.70                       1      0   \n",
       "1                 3               3.70                       1      0   \n",
       "2                 5               3.29                       0      0   \n",
       "3                 7               1.78                       2      0   \n",
       "4                 3               2.73                       3      0   \n",
       "\n",
       "   Total calls  \n",
       "0          303  \n",
       "1          332  \n",
       "2          333  \n",
       "3          255  \n",
       "4          359  \n",
       "\n",
       "[5 rows x 22 columns]"
      ],
      "text/html": "<div>\n<style scoped>\n    .dataframe tbody tr th:only-of-type {\n        vertical-align: middle;\n    }\n\n    .dataframe tbody tr th {\n        vertical-align: top;\n    }\n\n    .dataframe thead th {\n        text-align: right;\n    }\n</style>\n<table border=\"1\" class=\"dataframe\">\n  <thead>\n    <tr style=\"text-align: right;\">\n      <th></th>\n      <th>State</th>\n      <th>Account length</th>\n      <th>Area code</th>\n      <th>Phone number</th>\n      <th>International plan</th>\n      <th>Voice mail plan</th>\n      <th>Number vmail messages</th>\n      <th>Total day minutes</th>\n      <th>Total day calls</th>\n      <th>Total day charge</th>\n      <th>...</th>\n      <th>Total eve charge</th>\n      <th>Total night minutes</th>\n      <th>Total night calls</th>\n      <th>Total night charge</th>\n      <th>Total intl minutes</th>\n      <th>Total intl calls</th>\n      <th>Total intl charge</th>\n      <th>Customer service calls</th>\n      <th>Churn</th>\n      <th>Total calls</th>\n    </tr>\n  </thead>\n  <tbody>\n    <tr>\n      <th>0</th>\n      <td>KS</td>\n      <td>128</td>\n      <td>415</td>\n      <td>382-4657</td>\n      <td>False</td>\n      <td>True</td>\n      <td>25</td>\n      <td>265.1</td>\n      <td>110</td>\n      <td>45.07</td>\n      <td>...</td>\n      <td>16.78</td>\n      <td>244.7</td>\n      <td>91</td>\n      <td>11.01</td>\n      <td>10.0</td>\n      <td>3</td>\n      <td>2.70</td>\n      <td>1</td>\n      <td>0</td>\n      <td>303</td>\n    </tr>\n    <tr>\n      <th>1</th>\n      <td>OH</td>\n      <td>107</td>\n      <td>415</td>\n      <td>371-7191</td>\n      <td>False</td>\n      <td>True</td>\n      <td>26</td>\n      <td>161.6</td>\n      <td>123</td>\n      <td>27.47</td>\n      <td>...</td>\n      <td>16.62</td>\n      <td>254.4</td>\n      <td>103</td>\n      <td>11.45</td>\n      <td>13.7</td>\n      <td>3</td>\n      <td>3.70</td>\n      <td>1</td>\n      <td>0</td>\n      <td>332</td>\n    </tr>\n    <tr>\n      <th>2</th>\n      <td>NJ</td>\n      <td>137</td>\n      <td>415</td>\n      <td>358-1921</td>\n      <td>False</td>\n      <td>False</td>\n      <td>0</td>\n      <td>243.4</td>\n      <td>114</td>\n      <td>41.38</td>\n      <td>...</td>\n      <td>10.30</td>\n      <td>162.6</td>\n      <td>104</td>\n      <td>7.32</td>\n      <td>12.2</td>\n      <td>5</td>\n      <td>3.29</td>\n      <td>0</td>\n      <td>0</td>\n      <td>333</td>\n    </tr>\n    <tr>\n      <th>3</th>\n      <td>OH</td>\n      <td>84</td>\n      <td>408</td>\n      <td>375-9999</td>\n      <td>True</td>\n      <td>False</td>\n      <td>0</td>\n      <td>299.4</td>\n      <td>71</td>\n      <td>50.90</td>\n      <td>...</td>\n      <td>5.26</td>\n      <td>196.9</td>\n      <td>89</td>\n      <td>8.86</td>\n      <td>6.6</td>\n      <td>7</td>\n      <td>1.78</td>\n      <td>2</td>\n      <td>0</td>\n      <td>255</td>\n    </tr>\n    <tr>\n      <th>4</th>\n      <td>OK</td>\n      <td>75</td>\n      <td>415</td>\n      <td>330-6626</td>\n      <td>True</td>\n      <td>False</td>\n      <td>0</td>\n      <td>166.7</td>\n      <td>113</td>\n      <td>28.34</td>\n      <td>...</td>\n      <td>12.61</td>\n      <td>186.9</td>\n      <td>121</td>\n      <td>8.41</td>\n      <td>10.1</td>\n      <td>3</td>\n      <td>2.73</td>\n      <td>3</td>\n      <td>0</td>\n      <td>359</td>\n    </tr>\n  </tbody>\n</table>\n<p>5 rows × 22 columns</p>\n</div>"
     },
     "metadata": {},
     "execution_count": 64
    }
   ],
   "source": [
    "total_calls = (\n",
    "    df[\"Total day calls\"]\n",
    "    + df[\"Total eve calls\"]\n",
    "    + df[\"Total night calls\"]\n",
    "    + df[\"Total intl calls\"]\n",
    ")\n",
    "df.insert(loc=len(df.columns), column=\"Total calls\", value=total_calls)\n",
    "# loc parameter is the number of columns after which to insert the Series object\n",
    "# we set it to len(df.columns) to paste it at the very end of the dataframe\n",
    "df.head()"
   ]
  },
  {
   "cell_type": "markdown",
   "id": "right-philosophy",
   "metadata": {
    "_uuid": "244a645e9676b8bd2546bc84926cb9e43124e4c2",
    "papermill": {
     "duration": 0.061075,
     "end_time": "2021-05-07T08:36:06.277359",
     "exception": false,
     "start_time": "2021-05-07T08:36:06.216284",
     "status": "completed"
    },
    "tags": []
   },
   "source": [
    "It is possible to add a column more easily without creating an intermediate Series instance:"
   ]
  },
  {
   "cell_type": "code",
   "execution_count": 65,
   "id": "superb-capability",
   "metadata": {
    "_uuid": "c5ec80ecb3b2e917834ccfb6cb0a76aced20315f",
    "execution": {
     "iopub.execute_input": "2021-05-07T08:36:06.402802Z",
     "iopub.status.busy": "2021-05-07T08:36:06.402147Z",
     "iopub.status.idle": "2021-05-07T08:36:06.433065Z",
     "shell.execute_reply": "2021-05-07T08:36:06.433588Z"
    },
    "papermill": {
     "duration": 0.095534,
     "end_time": "2021-05-07T08:36:06.433772",
     "exception": false,
     "start_time": "2021-05-07T08:36:06.338238",
     "status": "completed"
    },
    "tags": []
   },
   "outputs": [
    {
     "output_type": "execute_result",
     "data": {
      "text/plain": [
       "  State  Account length  Area code Phone number  International plan  \\\n",
       "0    KS             128        415     382-4657               False   \n",
       "1    OH             107        415     371-7191               False   \n",
       "2    NJ             137        415     358-1921               False   \n",
       "3    OH              84        408     375-9999                True   \n",
       "4    OK              75        415     330-6626                True   \n",
       "\n",
       "   Voice mail plan  Number vmail messages  Total day minutes  Total day calls  \\\n",
       "0             True                     25              265.1              110   \n",
       "1             True                     26              161.6              123   \n",
       "2            False                      0              243.4              114   \n",
       "3            False                      0              299.4               71   \n",
       "4            False                      0              166.7              113   \n",
       "\n",
       "   Total day charge  ...  Total night minutes  Total night calls  \\\n",
       "0             45.07  ...                244.7                 91   \n",
       "1             27.47  ...                254.4                103   \n",
       "2             41.38  ...                162.6                104   \n",
       "3             50.90  ...                196.9                 89   \n",
       "4             28.34  ...                186.9                121   \n",
       "\n",
       "   Total night charge  Total intl minutes  Total intl calls  \\\n",
       "0               11.01                10.0                 3   \n",
       "1               11.45                13.7                 3   \n",
       "2                7.32                12.2                 5   \n",
       "3                8.86                 6.6                 7   \n",
       "4                8.41                10.1                 3   \n",
       "\n",
       "   Total intl charge  Customer service calls  Churn  Total calls  Total charge  \n",
       "0               2.70                       1      0          303         75.56  \n",
       "1               3.70                       1      0          332         59.24  \n",
       "2               3.29                       0      0          333         62.29  \n",
       "3               1.78                       2      0          255         66.80  \n",
       "4               2.73                       3      0          359         52.09  \n",
       "\n",
       "[5 rows x 23 columns]"
      ],
      "text/html": "<div>\n<style scoped>\n    .dataframe tbody tr th:only-of-type {\n        vertical-align: middle;\n    }\n\n    .dataframe tbody tr th {\n        vertical-align: top;\n    }\n\n    .dataframe thead th {\n        text-align: right;\n    }\n</style>\n<table border=\"1\" class=\"dataframe\">\n  <thead>\n    <tr style=\"text-align: right;\">\n      <th></th>\n      <th>State</th>\n      <th>Account length</th>\n      <th>Area code</th>\n      <th>Phone number</th>\n      <th>International plan</th>\n      <th>Voice mail plan</th>\n      <th>Number vmail messages</th>\n      <th>Total day minutes</th>\n      <th>Total day calls</th>\n      <th>Total day charge</th>\n      <th>...</th>\n      <th>Total night minutes</th>\n      <th>Total night calls</th>\n      <th>Total night charge</th>\n      <th>Total intl minutes</th>\n      <th>Total intl calls</th>\n      <th>Total intl charge</th>\n      <th>Customer service calls</th>\n      <th>Churn</th>\n      <th>Total calls</th>\n      <th>Total charge</th>\n    </tr>\n  </thead>\n  <tbody>\n    <tr>\n      <th>0</th>\n      <td>KS</td>\n      <td>128</td>\n      <td>415</td>\n      <td>382-4657</td>\n      <td>False</td>\n      <td>True</td>\n      <td>25</td>\n      <td>265.1</td>\n      <td>110</td>\n      <td>45.07</td>\n      <td>...</td>\n      <td>244.7</td>\n      <td>91</td>\n      <td>11.01</td>\n      <td>10.0</td>\n      <td>3</td>\n      <td>2.70</td>\n      <td>1</td>\n      <td>0</td>\n      <td>303</td>\n      <td>75.56</td>\n    </tr>\n    <tr>\n      <th>1</th>\n      <td>OH</td>\n      <td>107</td>\n      <td>415</td>\n      <td>371-7191</td>\n      <td>False</td>\n      <td>True</td>\n      <td>26</td>\n      <td>161.6</td>\n      <td>123</td>\n      <td>27.47</td>\n      <td>...</td>\n      <td>254.4</td>\n      <td>103</td>\n      <td>11.45</td>\n      <td>13.7</td>\n      <td>3</td>\n      <td>3.70</td>\n      <td>1</td>\n      <td>0</td>\n      <td>332</td>\n      <td>59.24</td>\n    </tr>\n    <tr>\n      <th>2</th>\n      <td>NJ</td>\n      <td>137</td>\n      <td>415</td>\n      <td>358-1921</td>\n      <td>False</td>\n      <td>False</td>\n      <td>0</td>\n      <td>243.4</td>\n      <td>114</td>\n      <td>41.38</td>\n      <td>...</td>\n      <td>162.6</td>\n      <td>104</td>\n      <td>7.32</td>\n      <td>12.2</td>\n      <td>5</td>\n      <td>3.29</td>\n      <td>0</td>\n      <td>0</td>\n      <td>333</td>\n      <td>62.29</td>\n    </tr>\n    <tr>\n      <th>3</th>\n      <td>OH</td>\n      <td>84</td>\n      <td>408</td>\n      <td>375-9999</td>\n      <td>True</td>\n      <td>False</td>\n      <td>0</td>\n      <td>299.4</td>\n      <td>71</td>\n      <td>50.90</td>\n      <td>...</td>\n      <td>196.9</td>\n      <td>89</td>\n      <td>8.86</td>\n      <td>6.6</td>\n      <td>7</td>\n      <td>1.78</td>\n      <td>2</td>\n      <td>0</td>\n      <td>255</td>\n      <td>66.80</td>\n    </tr>\n    <tr>\n      <th>4</th>\n      <td>OK</td>\n      <td>75</td>\n      <td>415</td>\n      <td>330-6626</td>\n      <td>True</td>\n      <td>False</td>\n      <td>0</td>\n      <td>166.7</td>\n      <td>113</td>\n      <td>28.34</td>\n      <td>...</td>\n      <td>186.9</td>\n      <td>121</td>\n      <td>8.41</td>\n      <td>10.1</td>\n      <td>3</td>\n      <td>2.73</td>\n      <td>3</td>\n      <td>0</td>\n      <td>359</td>\n      <td>52.09</td>\n    </tr>\n  </tbody>\n</table>\n<p>5 rows × 23 columns</p>\n</div>"
     },
     "metadata": {},
     "execution_count": 65
    }
   ],
   "source": [
    "df[\"Total charge\"] = (\n",
    "    df[\"Total day charge\"]\n",
    "    + df[\"Total eve charge\"]\n",
    "    + df[\"Total night charge\"]\n",
    "    + df[\"Total intl charge\"]\n",
    ")\n",
    "df.head()"
   ]
  },
  {
   "cell_type": "markdown",
   "id": "breeding-franklin",
   "metadata": {
    "_uuid": "83e0b3c996775535de55a8773bdd7dee215e2a3b",
    "papermill": {
     "duration": 0.060947,
     "end_time": "2021-05-07T08:36:06.556289",
     "exception": false,
     "start_time": "2021-05-07T08:36:06.495342",
     "status": "completed"
    },
    "tags": []
   },
   "source": [
    "To delete columns or rows, use the `drop` method, passing the required indexes and the `axis` parameter (`1` if you delete columns, and nothing or `0` if you delete rows). The `inplace` argument tells whether to change the original DataFrame. With `inplace=False`, the `drop` method doesn't change the existing DataFrame and returns a new one with dropped rows or columns. With `inplace=True`, it alters the DataFrame."
   ]
  },
  {
   "cell_type": "code",
   "execution_count": 66,
   "id": "premium-democracy",
   "metadata": {
    "_uuid": "48fbc2e42a623ee78f9e2d9222186387561bbb0a",
    "execution": {
     "iopub.execute_input": "2021-05-07T08:36:06.682356Z",
     "iopub.status.busy": "2021-05-07T08:36:06.681337Z",
     "iopub.status.idle": "2021-05-07T08:36:06.706460Z",
     "shell.execute_reply": "2021-05-07T08:36:06.706916Z"
    },
    "papermill": {
     "duration": 0.089806,
     "end_time": "2021-05-07T08:36:06.707109",
     "exception": false,
     "start_time": "2021-05-07T08:36:06.617303",
     "status": "completed"
    },
    "tags": []
   },
   "outputs": [
    {
     "output_type": "execute_result",
     "data": {
      "text/plain": [
       "  State  Account length  Area code Phone number  International plan  \\\n",
       "0    KS             128        415     382-4657               False   \n",
       "3    OH              84        408     375-9999                True   \n",
       "4    OK              75        415     330-6626                True   \n",
       "5    AL             118        510     391-8027                True   \n",
       "6    MA             121        510     355-9993               False   \n",
       "\n",
       "   Voice mail plan  Number vmail messages  Total day minutes  Total day calls  \\\n",
       "0             True                     25              265.1              110   \n",
       "3            False                      0              299.4               71   \n",
       "4            False                      0              166.7              113   \n",
       "5            False                      0              223.4               98   \n",
       "6             True                     24              218.2               88   \n",
       "\n",
       "   Total day charge  ...  Total eve calls  Total eve charge  \\\n",
       "0             45.07  ...               99             16.78   \n",
       "3             50.90  ...               88              5.26   \n",
       "4             28.34  ...              122             12.61   \n",
       "5             37.98  ...              101             18.75   \n",
       "6             37.09  ...              108             29.62   \n",
       "\n",
       "   Total night minutes  Total night calls  Total night charge  \\\n",
       "0                244.7                 91               11.01   \n",
       "3                196.9                 89                8.86   \n",
       "4                186.9                121                8.41   \n",
       "5                203.9                118                9.18   \n",
       "6                212.6                118                9.57   \n",
       "\n",
       "   Total intl minutes  Total intl calls  Total intl charge  \\\n",
       "0                10.0                 3               2.70   \n",
       "3                 6.6                 7               1.78   \n",
       "4                10.1                 3               2.73   \n",
       "5                 6.3                 6               1.70   \n",
       "6                 7.5                 7               2.03   \n",
       "\n",
       "   Customer service calls  Churn  \n",
       "0                       1      0  \n",
       "3                       2      0  \n",
       "4                       3      0  \n",
       "5                       0      0  \n",
       "6                       3      0  \n",
       "\n",
       "[5 rows x 21 columns]"
      ],
      "text/html": "<div>\n<style scoped>\n    .dataframe tbody tr th:only-of-type {\n        vertical-align: middle;\n    }\n\n    .dataframe tbody tr th {\n        vertical-align: top;\n    }\n\n    .dataframe thead th {\n        text-align: right;\n    }\n</style>\n<table border=\"1\" class=\"dataframe\">\n  <thead>\n    <tr style=\"text-align: right;\">\n      <th></th>\n      <th>State</th>\n      <th>Account length</th>\n      <th>Area code</th>\n      <th>Phone number</th>\n      <th>International plan</th>\n      <th>Voice mail plan</th>\n      <th>Number vmail messages</th>\n      <th>Total day minutes</th>\n      <th>Total day calls</th>\n      <th>Total day charge</th>\n      <th>...</th>\n      <th>Total eve calls</th>\n      <th>Total eve charge</th>\n      <th>Total night minutes</th>\n      <th>Total night calls</th>\n      <th>Total night charge</th>\n      <th>Total intl minutes</th>\n      <th>Total intl calls</th>\n      <th>Total intl charge</th>\n      <th>Customer service calls</th>\n      <th>Churn</th>\n    </tr>\n  </thead>\n  <tbody>\n    <tr>\n      <th>0</th>\n      <td>KS</td>\n      <td>128</td>\n      <td>415</td>\n      <td>382-4657</td>\n      <td>False</td>\n      <td>True</td>\n      <td>25</td>\n      <td>265.1</td>\n      <td>110</td>\n      <td>45.07</td>\n      <td>...</td>\n      <td>99</td>\n      <td>16.78</td>\n      <td>244.7</td>\n      <td>91</td>\n      <td>11.01</td>\n      <td>10.0</td>\n      <td>3</td>\n      <td>2.70</td>\n      <td>1</td>\n      <td>0</td>\n    </tr>\n    <tr>\n      <th>3</th>\n      <td>OH</td>\n      <td>84</td>\n      <td>408</td>\n      <td>375-9999</td>\n      <td>True</td>\n      <td>False</td>\n      <td>0</td>\n      <td>299.4</td>\n      <td>71</td>\n      <td>50.90</td>\n      <td>...</td>\n      <td>88</td>\n      <td>5.26</td>\n      <td>196.9</td>\n      <td>89</td>\n      <td>8.86</td>\n      <td>6.6</td>\n      <td>7</td>\n      <td>1.78</td>\n      <td>2</td>\n      <td>0</td>\n    </tr>\n    <tr>\n      <th>4</th>\n      <td>OK</td>\n      <td>75</td>\n      <td>415</td>\n      <td>330-6626</td>\n      <td>True</td>\n      <td>False</td>\n      <td>0</td>\n      <td>166.7</td>\n      <td>113</td>\n      <td>28.34</td>\n      <td>...</td>\n      <td>122</td>\n      <td>12.61</td>\n      <td>186.9</td>\n      <td>121</td>\n      <td>8.41</td>\n      <td>10.1</td>\n      <td>3</td>\n      <td>2.73</td>\n      <td>3</td>\n      <td>0</td>\n    </tr>\n    <tr>\n      <th>5</th>\n      <td>AL</td>\n      <td>118</td>\n      <td>510</td>\n      <td>391-8027</td>\n      <td>True</td>\n      <td>False</td>\n      <td>0</td>\n      <td>223.4</td>\n      <td>98</td>\n      <td>37.98</td>\n      <td>...</td>\n      <td>101</td>\n      <td>18.75</td>\n      <td>203.9</td>\n      <td>118</td>\n      <td>9.18</td>\n      <td>6.3</td>\n      <td>6</td>\n      <td>1.70</td>\n      <td>0</td>\n      <td>0</td>\n    </tr>\n    <tr>\n      <th>6</th>\n      <td>MA</td>\n      <td>121</td>\n      <td>510</td>\n      <td>355-9993</td>\n      <td>False</td>\n      <td>True</td>\n      <td>24</td>\n      <td>218.2</td>\n      <td>88</td>\n      <td>37.09</td>\n      <td>...</td>\n      <td>108</td>\n      <td>29.62</td>\n      <td>212.6</td>\n      <td>118</td>\n      <td>9.57</td>\n      <td>7.5</td>\n      <td>7</td>\n      <td>2.03</td>\n      <td>3</td>\n      <td>0</td>\n    </tr>\n  </tbody>\n</table>\n<p>5 rows × 21 columns</p>\n</div>"
     },
     "metadata": {},
     "execution_count": 66
    }
   ],
   "source": [
    "# get rid of just created columns\n",
    "df.drop([\"Total charge\", \"Total calls\"], axis=1, inplace=True)\n",
    "# and here’s how you can delete rows\n",
    "df.drop([1, 2]).head()"
   ]
  },
  {
   "cell_type": "markdown",
   "id": "decreased-enhancement",
   "metadata": {
    "_uuid": "482e5e694de9c2173dd607a2821c54d704bc88ea",
    "papermill": {
     "duration": 0.062246,
     "end_time": "2021-05-07T08:36:06.831165",
     "exception": false,
     "start_time": "2021-05-07T08:36:06.768919",
     "status": "completed"
    },
    "tags": []
   },
   "source": [
    "## 2. First attempt at predicting telecom churn\n",
    "\n",
    "\n",
    "Let's see how churn rate is related to the *International plan* feature. We'll do this using a `crosstab` contingency table and also through visual analysis with `Seaborn` (however, visual analysis will be covered more thoroughly in the next article).\n"
   ]
  },
  {
   "cell_type": "code",
   "execution_count": 67,
   "id": "modern-westminster",
   "metadata": {
    "_uuid": "8bc65b91a9041032168dfd50d5fab097c003d9c0",
    "execution": {
     "iopub.execute_input": "2021-05-07T08:36:06.961499Z",
     "iopub.status.busy": "2021-05-07T08:36:06.960829Z",
     "iopub.status.idle": "2021-05-07T08:36:07.008354Z",
     "shell.execute_reply": "2021-05-07T08:36:07.007747Z"
    },
    "papermill": {
     "duration": 0.113802,
     "end_time": "2021-05-07T08:36:07.008497",
     "exception": false,
     "start_time": "2021-05-07T08:36:06.894695",
     "status": "completed"
    },
    "tags": []
   },
   "outputs": [
    {
     "output_type": "execute_result",
     "data": {
      "text/plain": [
       "International plan  False  True   All\n",
       "Churn                                \n",
       "0                    2664   186  2850\n",
       "1                     346   137   483\n",
       "All                  3010   323  3333"
      ],
      "text/html": "<div>\n<style scoped>\n    .dataframe tbody tr th:only-of-type {\n        vertical-align: middle;\n    }\n\n    .dataframe tbody tr th {\n        vertical-align: top;\n    }\n\n    .dataframe thead th {\n        text-align: right;\n    }\n</style>\n<table border=\"1\" class=\"dataframe\">\n  <thead>\n    <tr style=\"text-align: right;\">\n      <th>International plan</th>\n      <th>False</th>\n      <th>True</th>\n      <th>All</th>\n    </tr>\n    <tr>\n      <th>Churn</th>\n      <th></th>\n      <th></th>\n      <th></th>\n    </tr>\n  </thead>\n  <tbody>\n    <tr>\n      <th>0</th>\n      <td>2664</td>\n      <td>186</td>\n      <td>2850</td>\n    </tr>\n    <tr>\n      <th>1</th>\n      <td>346</td>\n      <td>137</td>\n      <td>483</td>\n    </tr>\n    <tr>\n      <th>All</th>\n      <td>3010</td>\n      <td>323</td>\n      <td>3333</td>\n    </tr>\n  </tbody>\n</table>\n</div>"
     },
     "metadata": {},
     "execution_count": 67
    }
   ],
   "source": [
    "pd.crosstab(df[\"Churn\"], df[\"International plan\"], margins=True)"
   ]
  },
  {
   "cell_type": "code",
   "execution_count": 68,
   "id": "suited-boston",
   "metadata": {
    "_uuid": "c809a62f4d1077993a0f0f2d36d1066c108ca23d",
    "execution": {
     "iopub.execute_input": "2021-05-07T08:36:07.141509Z",
     "iopub.status.busy": "2021-05-07T08:36:07.140756Z",
     "iopub.status.idle": "2021-05-07T08:36:08.112015Z",
     "shell.execute_reply": "2021-05-07T08:36:08.112554Z"
    },
    "papermill": {
     "duration": 1.038479,
     "end_time": "2021-05-07T08:36:08.112754",
     "exception": false,
     "start_time": "2021-05-07T08:36:07.074275",
     "status": "completed"
    },
    "tags": []
   },
   "outputs": [],
   "source": [
    "# some imports to set up plotting\n",
    "import matplotlib.pyplot as plt\n",
    "# pip install seaborn\n",
    "import seaborn as sns\n",
    "\n",
    "# Graphics in retina format are more sharp and legible\n",
    "%config InlineBackend.figure_format = 'retina'"
   ]
  },
  {
   "cell_type": "code",
   "execution_count": 69,
   "id": "middle-broadcast",
   "metadata": {
    "_uuid": "ae3bb6cdde2a6d72112e6076d92b35f2f2caaa3e",
    "execution": {
     "iopub.execute_input": "2021-05-07T08:36:08.244679Z",
     "iopub.status.busy": "2021-05-07T08:36:08.243948Z",
     "iopub.status.idle": "2021-05-07T08:36:08.441927Z",
     "shell.execute_reply": "2021-05-07T08:36:08.441208Z"
    },
    "papermill": {
     "duration": 0.264496,
     "end_time": "2021-05-07T08:36:08.442097",
     "exception": false,
     "start_time": "2021-05-07T08:36:08.177601",
     "status": "completed"
    },
    "tags": []
   },
   "outputs": [
    {
     "output_type": "display_data",
     "data": {
      "text/plain": "<Figure size 432x288 with 1 Axes>",
      "image/png": "[encoded data removed]"
     },
     "metadata": {
      "image/png": {
       "width": 395,
       "height": 261
      }
     }
    }
   ],
   "source": [
    "sns.countplot(x=\"International plan\", hue=\"Churn\", data=df);"
   ]
  },
  {
   "cell_type": "markdown",
   "id": "compliant-symbol",
   "metadata": {
    "_uuid": "c1134a7f1fe7a5c8dae399a84f58611043f6e757",
    "papermill": {
     "duration": 0.06357,
     "end_time": "2021-05-07T08:36:08.570441",
     "exception": false,
     "start_time": "2021-05-07T08:36:08.506871",
     "status": "completed"
    },
    "tags": []
   },
   "source": [
    "\n",
    "We see that, with *International Plan*, the churn rate is much higher, which is an interesting observation! Perhaps large and poorly controlled expenses with international calls are very conflict-prone and lead to dissatisfaction among the telecom operator's customers.\n",
    "\n",
    "Next, let's look at another important feature – *Customer service calls*. Let's also make a summary table and a picture."
   ]
  },
  {
   "cell_type": "code",
   "execution_count": 70,
   "id": "recognized-sunday",
   "metadata": {
    "_uuid": "75cf7fe86ae75e01d49a07fb52fe5c8ce1c6a334",
    "execution": {
     "iopub.execute_input": "2021-05-07T08:36:08.715170Z",
     "iopub.status.busy": "2021-05-07T08:36:08.714500Z",
     "iopub.status.idle": "2021-05-07T08:36:08.767848Z",
     "shell.execute_reply": "2021-05-07T08:36:08.768395Z"
    },
    "papermill": {
     "duration": 0.127022,
     "end_time": "2021-05-07T08:36:08.768579",
     "exception": false,
     "start_time": "2021-05-07T08:36:08.641557",
     "status": "completed"
    },
    "tags": []
   },
   "outputs": [
    {
     "output_type": "execute_result",
     "data": {
      "text/plain": [
       "Customer service calls    0     1    2    3    4   5   6  7  8  9   All\n",
       "Churn                                                                  \n",
       "0                       605  1059  672  385   90  26   8  4  1  0  2850\n",
       "1                        92   122   87   44   76  40  14  5  1  2   483\n",
       "All                     697  1181  759  429  166  66  22  9  2  2  3333"
      ],
      "text/html": "<div>\n<style scoped>\n    .dataframe tbody tr th:only-of-type {\n        vertical-align: middle;\n    }\n\n    .dataframe tbody tr th {\n        vertical-align: top;\n    }\n\n    .dataframe thead th {\n        text-align: right;\n    }\n</style>\n<table border=\"1\" class=\"dataframe\">\n  <thead>\n    <tr style=\"text-align: right;\">\n      <th>Customer service calls</th>\n      <th>0</th>\n      <th>1</th>\n      <th>2</th>\n      <th>3</th>\n      <th>4</th>\n      <th>5</th>\n      <th>6</th>\n      <th>7</th>\n      <th>8</th>\n      <th>9</th>\n      <th>All</th>\n    </tr>\n    <tr>\n      <th>Churn</th>\n      <th></th>\n      <th></th>\n      <th></th>\n      <th></th>\n      <th></th>\n      <th></th>\n      <th></th>\n      <th></th>\n      <th></th>\n      <th></th>\n      <th></th>\n    </tr>\n  </thead>\n  <tbody>\n    <tr>\n      <th>0</th>\n      <td>605</td>\n      <td>1059</td>\n      <td>672</td>\n      <td>385</td>\n      <td>90</td>\n      <td>26</td>\n      <td>8</td>\n      <td>4</td>\n      <td>1</td>\n      <td>0</td>\n      <td>2850</td>\n    </tr>\n    <tr>\n      <th>1</th>\n      <td>92</td>\n      <td>122</td>\n      <td>87</td>\n      <td>44</td>\n      <td>76</td>\n      <td>40</td>\n      <td>14</td>\n      <td>5</td>\n      <td>1</td>\n      <td>2</td>\n      <td>483</td>\n    </tr>\n    <tr>\n      <th>All</th>\n      <td>697</td>\n      <td>1181</td>\n      <td>759</td>\n      <td>429</td>\n      <td>166</td>\n      <td>66</td>\n      <td>22</td>\n      <td>9</td>\n      <td>2</td>\n      <td>2</td>\n      <td>3333</td>\n    </tr>\n  </tbody>\n</table>\n</div>"
     },
     "metadata": {},
     "execution_count": 70
    }
   ],
   "source": [
    "pd.crosstab(df[\"Churn\"], df[\"Customer service calls\"], margins=True)"
   ]
  },
  {
   "cell_type": "code",
   "execution_count": 71,
   "id": "colored-temperature",
   "metadata": {
    "_uuid": "bc0a6cb1fb72cc66bc1d7c33301b3ab0d2c7d81b",
    "execution": {
     "iopub.execute_input": "2021-05-07T08:36:08.901766Z",
     "iopub.status.busy": "2021-05-07T08:36:08.901106Z",
     "iopub.status.idle": "2021-05-07T08:36:09.159001Z",
     "shell.execute_reply": "2021-05-07T08:36:09.159551Z"
    },
    "papermill": {
     "duration": 0.326519,
     "end_time": "2021-05-07T08:36:09.159738",
     "exception": false,
     "start_time": "2021-05-07T08:36:08.833219",
     "status": "completed"
    },
    "tags": []
   },
   "outputs": [
    {
     "output_type": "display_data",
     "data": {
      "text/plain": "<Figure size 432x288 with 1 Axes>",
      "image/png": "[encoded data removed]"
     },
     "metadata": {
      "image/png": {
       "width": 395,
       "height": 261
      }
     }
    }
   ],
   "source": [
    "sns.countplot(x=\"Customer service calls\", hue=\"Churn\", data=df);"
   ]
  },
  {
   "cell_type": "markdown",
   "id": "narrative-powell",
   "metadata": {
    "_uuid": "f07e73f5b67964229579f87c626b7a22d3b4e622",
    "papermill": {
     "duration": 0.066219,
     "end_time": "2021-05-07T08:36:09.293612",
     "exception": false,
     "start_time": "2021-05-07T08:36:09.227393",
     "status": "completed"
    },
    "tags": []
   },
   "source": [
    "Although it's not so obvious from the summary table, it's easy to see from the above plot that the churn rate increases sharply from 4 customer service calls and above.\n",
    "\n",
    "Now let's add a binary feature to our DataFrame – `Customer service calls > 3`. And once again, let's see how it relates to churn. "
   ]
  },
  {
   "cell_type": "code",
   "execution_count": 72,
   "id": "statistical-nylon",
   "metadata": {
    "_uuid": "37b91ac20b481d221d97515aa46c9cda713a6991",
    "execution": {
     "iopub.execute_input": "2021-05-07T08:36:09.429250Z",
     "iopub.status.busy": "2021-05-07T08:36:09.428514Z",
     "iopub.status.idle": "2021-05-07T08:36:09.477478Z",
     "shell.execute_reply": "2021-05-07T08:36:09.478009Z"
    },
    "papermill": {
     "duration": 0.119036,
     "end_time": "2021-05-07T08:36:09.478236",
     "exception": false,
     "start_time": "2021-05-07T08:36:09.359200",
     "status": "completed"
    },
    "tags": []
   },
   "outputs": [
    {
     "output_type": "execute_result",
     "data": {
      "text/plain": [
       "Churn                  0    1   All\n",
       "Many_service_calls                 \n",
       "0                   2721  345  3066\n",
       "1                    129  138   267\n",
       "All                 2850  483  3333"
      ],
      "text/html": "<div>\n<style scoped>\n    .dataframe tbody tr th:only-of-type {\n        vertical-align: middle;\n    }\n\n    .dataframe tbody tr th {\n        vertical-align: top;\n    }\n\n    .dataframe thead th {\n        text-align: right;\n    }\n</style>\n<table border=\"1\" class=\"dataframe\">\n  <thead>\n    <tr style=\"text-align: right;\">\n      <th>Churn</th>\n      <th>0</th>\n      <th>1</th>\n      <th>All</th>\n    </tr>\n    <tr>\n      <th>Many_service_calls</th>\n      <th></th>\n      <th></th>\n      <th></th>\n    </tr>\n  </thead>\n  <tbody>\n    <tr>\n      <th>0</th>\n      <td>2721</td>\n      <td>345</td>\n      <td>3066</td>\n    </tr>\n    <tr>\n      <th>1</th>\n      <td>129</td>\n      <td>138</td>\n      <td>267</td>\n    </tr>\n    <tr>\n      <th>All</th>\n      <td>2850</td>\n      <td>483</td>\n      <td>3333</td>\n    </tr>\n  </tbody>\n</table>\n</div>"
     },
     "metadata": {},
     "execution_count": 72
    }
   ],
   "source": [
    "df[\"Many_service_calls\"] = (df[\"Customer service calls\"] > 3).astype(\"int\")\n",
    "\n",
    "pd.crosstab(df[\"Many_service_calls\"], df[\"Churn\"], margins=True)"
   ]
  },
  {
   "cell_type": "code",
   "execution_count": 73,
   "id": "quarterly-greensboro",
   "metadata": {
    "_uuid": "58463ad14986d044a406debf885fd25f43fee525",
    "execution": {
     "iopub.execute_input": "2021-05-07T08:36:09.617448Z",
     "iopub.status.busy": "2021-05-07T08:36:09.616681Z",
     "iopub.status.idle": "2021-05-07T08:36:09.789689Z",
     "shell.execute_reply": "2021-05-07T08:36:09.789006Z"
    },
    "papermill": {
     "duration": 0.245211,
     "end_time": "2021-05-07T08:36:09.789841",
     "exception": false,
     "start_time": "2021-05-07T08:36:09.544630",
     "status": "completed"
    },
    "tags": []
   },
   "outputs": [
    {
     "output_type": "display_data",
     "data": {
      "text/plain": "<Figure size 432x288 with 1 Axes>",
      "image/png": "[encoded data removed]"
     },
     "metadata": {
      "image/png": {
       "width": 395,
       "height": 262
      }
     }
    }
   ],
   "source": [
    "sns.countplot(x=\"Many_service_calls\", hue=\"Churn\", data=df);"
   ]
  },
  {
   "cell_type": "markdown",
   "id": "covered-basement",
   "metadata": {
    "_uuid": "303b7f45cfd75c98ddfb31c686a8e023c123ad45",
    "papermill": {
     "duration": 0.068622,
     "end_time": "2021-05-07T08:36:09.927412",
     "exception": false,
     "start_time": "2021-05-07T08:36:09.858790",
     "status": "completed"
    },
    "tags": []
   },
   "source": [
    "\n",
    "Let's construct another contingency table that relates *Churn* with both *International plan* and freshly created *Many_service_calls*.\n",
    "\n"
   ]
  },
  {
   "cell_type": "code",
   "execution_count": 74,
   "id": "democratic-smart",
   "metadata": {
    "_uuid": "4679d8985f7b32943cd990a1dc4e88f41edca039",
    "execution": {
     "iopub.execute_input": "2021-05-07T08:36:10.073749Z",
     "iopub.status.busy": "2021-05-07T08:36:10.072679Z",
     "iopub.status.idle": "2021-05-07T08:36:10.094513Z",
     "shell.execute_reply": "2021-05-07T08:36:10.093848Z"
    },
    "papermill": {
     "duration": 0.097787,
     "end_time": "2021-05-07T08:36:10.094654",
     "exception": false,
     "start_time": "2021-05-07T08:36:09.996867",
     "status": "completed"
    },
    "tags": []
   },
   "outputs": [
    {
     "output_type": "execute_result",
     "data": {
      "text/plain": [
       "Churn     0    1\n",
       "row_0           \n",
       "False  2841  464\n",
       "True      9   19"
      ],
      "text/html": "<div>\n<style scoped>\n    .dataframe tbody tr th:only-of-type {\n        vertical-align: middle;\n    }\n\n    .dataframe tbody tr th {\n        vertical-align: top;\n    }\n\n    .dataframe thead th {\n        text-align: right;\n    }\n</style>\n<table border=\"1\" class=\"dataframe\">\n  <thead>\n    <tr style=\"text-align: right;\">\n      <th>Churn</th>\n      <th>0</th>\n      <th>1</th>\n    </tr>\n    <tr>\n      <th>row_0</th>\n      <th></th>\n      <th></th>\n    </tr>\n  </thead>\n  <tbody>\n    <tr>\n      <th>False</th>\n      <td>2841</td>\n      <td>464</td>\n    </tr>\n    <tr>\n      <th>True</th>\n      <td>9</td>\n      <td>19</td>\n    </tr>\n  </tbody>\n</table>\n</div>"
     },
     "metadata": {},
     "execution_count": 74
    }
   ],
   "source": [
    "pd.crosstab(df[\"Many_service_calls\"] & df[\"International plan\"], df[\"Churn\"])"
   ]
  },
  {
   "cell_type": "markdown",
   "id": "negative-brave",
   "metadata": {
    "_uuid": "edcffb69d14aa3b9d3d8a49d145900011d35829f",
    "papermill": {
     "duration": 0.067946,
     "end_time": "2021-05-07T08:36:10.230971",
     "exception": false,
     "start_time": "2021-05-07T08:36:10.163025",
     "status": "completed"
    },
    "tags": []
   },
   "source": [
    "Therefore, predicting that a customer is not loyal (*Churn*=1) in the case when the number of calls to the service center is greater than 3 and the *International Plan* is added (and predicting *Churn*=0 otherwise), we might expect an accuracy of 85.8% (we are mistaken only 464 + 9 times). This number, 85.8%, that we got through this very simple reasoning serves as a good starting point (*baseline*) for the further machine learning models that we will build. \n",
    "\n",
    "As we move on in this course, recall that, before the advent of machine learning, the data analysis process looked something like this. Let's recap what we've covered:\n",
    "    \n",
    "- The share of loyal clients in the sample is 85.5%. The most naive model that always predicts a \"loyal customer\" on such data will guess right in about 85.5% of all cases. That is, the proportion of correct answers (*accuracy*) of subsequent models should be no less than this number, and will hopefully be significantly higher;\n",
    "- With the help of a simple forecast that can be expressed by the following formula: \"International plan = True & Customer Service calls > 3 => Churn = 1, else Churn = 0\", we can expect a guessing rate of 85.8%, which is just above 85.5%. Subsequently, we'll talk about decision trees and figure out how to find such rules **automatically** based only on the input data;\n",
    "- We got these two baselines without applying machine learning, and they'll serve as the starting point for our subsequent models. If it turns out that with enormous effort, we increase the share of correct answers by 0.5% per se, then possibly we are doing something wrong, and it suffices to confine ourselves to a simple model with two conditions;\n",
    "- Before training complex models, it is recommended to manipulate the data a bit, make some plots, and check simple assumptions. Moreover, in business applications of machine learning, they usually start with simple solutions and then experiment with more complex ones.\n",
    "\n",
    "## 3. Assignments\n",
    "### Demo-version\n",
    "To practice with Pandas and EDA, you can complete [this demo assignment](https://www.kaggle.com/kashnitsky/a1-demo-pandas-and-uci-adult-dataset) where you'll be analyzing socio-demographic data. The assignment is just for you to practice, and goes with [solution](https://www.kaggle.com/kashnitsky/a1-demo-pandas-and-uci-adult-dataset-solution).\n",
    "\n",
    "### Bonus version\n",
    "You can also choose a [\"Bonus Assignments\" tier](https://www.patreon.com/ods_mlcourse) (details are outlined on the [mlcourse.ai](https://mlcourse.ai/) main page) and get a non-demo version of the assignment where the history of Olympic Games is analyzed with Pandas. \n",
    "\n",
    "## 4. Useful resources\n",
    "\n",
    "* The same notebook as an interactive web-based [Kaggle Notebook](https://www.kaggle.com/kashnitsky/topic-1-exploratory-data-analysis-with-pandas)\n",
    "* [\"Merging DataFrames with pandas\"](https://nbviewer.jupyter.org/github/Yorko/mlcourse.ai/blob/master/jupyter_english/tutorials/merging_dataframes_tutorial_max_palko.ipynb) – a tutorial by Max Plako within mlcourse.ai (full list of tutorials is [here](https://mlcourse.ai/tutorials))\n",
    "* [\"Handle different dataset with dask and trying a little dask ML\"](https://nbviewer.jupyter.org/github/Yorko/mlcourse.ai/blob/master/jupyter_english/tutorials/dask_objects_and_little_dask_ml_tutorial_iknyazeva.ipynb) – a tutorial by Irina Knyazeva within mlcourse.ai\n",
    "* Main course [site](https://mlcourse.ai), [course repo](https://github.com/Yorko/mlcourse.ai), and YouTube [channel](https://www.youtube.com/watch?v=QKTuw4PNOsU&list=PLVlY_7IJCMJeRfZ68eVfEcu-UcN9BbwiX)\n",
    "* Official Pandas [documentation](http://pandas.pydata.org/pandas-docs/stable/index.html)\n",
    "* Course materials as a [Kaggle Dataset](https://www.kaggle.com/kashnitsky/mlcourse)\n",
    "* Medium [\"story\"](https://medium.com/open-machine-learning-course/open-machine-learning-course-topic-1-exploratory-data-analysis-with-pandas-de57880f1a68) based on this notebook\n",
    "* If you read Russian: an [article](https://habrahabr.ru/company/ods/blog/322626/) on Habr.com with ~ the same material. And a [lecture](https://youtu.be/dEFxoyJhm3Y) on YouTube\n",
    "* [10 minutes to pandas](http://pandas.pydata.org/pandas-docs/stable/10min.html)\n",
    "* [Pandas cheatsheet PDF](https://github.com/pandas-dev/pandas/blob/master/doc/cheatsheet/Pandas_Cheat_Sheet.pdf)\n",
    "* GitHub repos: [Pandas exercises](https://github.com/guipsamora/pandas_exercises/) and [\"Effective Pandas\"](https://github.com/TomAugspurger/effective-pandas)\n",
    "* [scipy-lectures.org](http://www.scipy-lectures.org/index.html) — tutorials on pandas, numpy, matplotlib and scikit-learn\n",
    "\n",
    "## Support course creators\n",
    "<br>\n",
    "<center>\n",
    "You can make a monthly (Patreon) or one-time (Ko-Fi) donation ↓\n",
    "\n",
    "<br>\n",
    "<br>\n",
    "\n",
    "<a href=\"https://www.patreon.com/ods_mlcourse\">\n",
    "<img src=\"https://habrastorage.org/webt/zc/11/0y/zc110yh0u3kgnlmay1gwbekk0ys.png\" width=20% />\n",
    "\n",
    "<br>\n",
    "\n",
    "<a href=\"https://ko-fi.com/mlcourse_ai\">\n",
    "<img src=\"https://habrastorage.org/webt/8r/ml/xf/8rmlxfpdzukegpxa62cxlfvgkqe.png\" width=20% />\n",
    "    \n",
    "</center>"
   ]
  }
 ],
 "metadata": {
  "kernelspec": {
   "name": "python385jvsc74a57bd0633638f07f169ac0521c207046b2969caf13aa5852ee5011d7557254063fb061",
   "display_name": "Python 3.8.5 64-bit ('base': conda)"
  },
  "language_info": {
   "codemirror_mode": {
    "name": "ipython",
    "version": 3
   },
   "file_extension": ".py",
   "mimetype": "text/x-python",
   "name": "python",
   "nbconvert_exporter": "python",
   "pygments_lexer": "ipython3",
   "version": "3.8.5"
  },
  "papermill": {
   "default_parameters": {},
   "duration": 18.526667,
   "end_time": "2021-05-07T08:36:10.909084",
   "environment_variables": {},
   "exception": null,
   "input_path": "__notebook__.ipynb",
   "output_path": "__notebook__.ipynb",
   "parameters": {},
   "start_time": "2021-05-07T08:35:52.382417",
   "version": "2.3.2"
  }
 },
 "nbformat": 4,
 "nbformat_minor": 5
}